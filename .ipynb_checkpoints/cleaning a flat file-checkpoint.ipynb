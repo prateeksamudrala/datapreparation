{
 "cells": [
  {
   "cell_type": "markdown",
   "id": "bde183ce",
   "metadata": {},
   "source": [
    "# BITCOIN HISTORICAL PRICE AND SOCIAL POSTS/SENTIMENT \n",
    "\n",
    "## By Jyothi Samudrala\n",
    "\n",
    "Flat File Source: https://www.kaggle.com/sudalairajkumar/cryptocurrencypricehistory.\n",
    "\n",
    "The dataset has csv files for a set of crypto currencies. The price history is starting from April 28,2013. The various columns and their descriptions are as follows. \n",
    "\n",
    "1. Serial No: Serial number of the data\n",
    "2. Name: Name of the currency\n",
    "3. Symbol: Symbol of the currency\n",
    "4. Date: Date of observation\n",
    "5. Open: Opening price on the given day\n",
    "6. High: Highest price on the given day\n",
    "7. Low: Lowest price on the given day\n",
    "8. Close: Closing price on the given day\n",
    "9. Volume: Volume of transactions on the given day\n",
    "10. Market Cap: Market capitalization in USD\n",
    "\n",
    "There are a total of 23 currencies available via this source. \n",
    "\n",
    "Slight Project Change: Originally, I had decided to evaluate all the currencies in this list. Upon further research, for the sake of relevancy, precision and data availability, I will be focusing only on bitcoin.\n",
    "\n",
    "Website data will be used to append additional timeline of data, post 27th Feb 2021.\n",
    "\n",
    "Potential Actionable Insight: \n",
    "\n",
    "1.\tIs Bitcoin influenced by social sentiment/news?\n",
    "2.\tIs there a seasonal price fluctuation trend? Best time to buy or sell?\n",
    "3.\tAs a traditional bank, what insights can this data give me on investing trend and future?\n",
    "4.  What does this mean for crypto currencies similar to bitcoin that are at a lower price today?\n"
   ]
  },
  {
   "cell_type": "code",
   "execution_count": 1,
   "id": "ad604cb6",
   "metadata": {},
   "outputs": [
    {
     "data": {
      "text/html": [
       "<div>\n",
       "<style scoped>\n",
       "    .dataframe tbody tr th:only-of-type {\n",
       "        vertical-align: middle;\n",
       "    }\n",
       "\n",
       "    .dataframe tbody tr th {\n",
       "        vertical-align: top;\n",
       "    }\n",
       "\n",
       "    .dataframe thead th {\n",
       "        text-align: right;\n",
       "    }\n",
       "</style>\n",
       "<table border=\"1\" class=\"dataframe\">\n",
       "  <thead>\n",
       "    <tr style=\"text-align: right;\">\n",
       "      <th></th>\n",
       "      <th>SNo</th>\n",
       "      <th>Name</th>\n",
       "      <th>Symbol</th>\n",
       "      <th>Date</th>\n",
       "      <th>High</th>\n",
       "      <th>Low</th>\n",
       "      <th>Open</th>\n",
       "      <th>Close</th>\n",
       "      <th>Volume</th>\n",
       "      <th>Marketcap</th>\n",
       "    </tr>\n",
       "  </thead>\n",
       "  <tbody>\n",
       "    <tr>\n",
       "      <th>0</th>\n",
       "      <td>1</td>\n",
       "      <td>Bitcoin</td>\n",
       "      <td>BTC</td>\n",
       "      <td>2013-04-29 23:59:59</td>\n",
       "      <td>147.488007</td>\n",
       "      <td>134.000000</td>\n",
       "      <td>134.444000</td>\n",
       "      <td>144.539993</td>\n",
       "      <td>0.0</td>\n",
       "      <td>1.603769e+09</td>\n",
       "    </tr>\n",
       "    <tr>\n",
       "      <th>1</th>\n",
       "      <td>2</td>\n",
       "      <td>Bitcoin</td>\n",
       "      <td>BTC</td>\n",
       "      <td>2013-04-30 23:59:59</td>\n",
       "      <td>146.929993</td>\n",
       "      <td>134.050003</td>\n",
       "      <td>144.000000</td>\n",
       "      <td>139.000000</td>\n",
       "      <td>0.0</td>\n",
       "      <td>1.542813e+09</td>\n",
       "    </tr>\n",
       "    <tr>\n",
       "      <th>2</th>\n",
       "      <td>3</td>\n",
       "      <td>Bitcoin</td>\n",
       "      <td>BTC</td>\n",
       "      <td>2013-05-01 23:59:59</td>\n",
       "      <td>139.889999</td>\n",
       "      <td>107.720001</td>\n",
       "      <td>139.000000</td>\n",
       "      <td>116.989998</td>\n",
       "      <td>0.0</td>\n",
       "      <td>1.298955e+09</td>\n",
       "    </tr>\n",
       "    <tr>\n",
       "      <th>3</th>\n",
       "      <td>4</td>\n",
       "      <td>Bitcoin</td>\n",
       "      <td>BTC</td>\n",
       "      <td>2013-05-02 23:59:59</td>\n",
       "      <td>125.599998</td>\n",
       "      <td>92.281898</td>\n",
       "      <td>116.379997</td>\n",
       "      <td>105.209999</td>\n",
       "      <td>0.0</td>\n",
       "      <td>1.168517e+09</td>\n",
       "    </tr>\n",
       "    <tr>\n",
       "      <th>4</th>\n",
       "      <td>5</td>\n",
       "      <td>Bitcoin</td>\n",
       "      <td>BTC</td>\n",
       "      <td>2013-05-03 23:59:59</td>\n",
       "      <td>108.127998</td>\n",
       "      <td>79.099998</td>\n",
       "      <td>106.250000</td>\n",
       "      <td>97.750000</td>\n",
       "      <td>0.0</td>\n",
       "      <td>1.085995e+09</td>\n",
       "    </tr>\n",
       "    <tr>\n",
       "      <th>5</th>\n",
       "      <td>6</td>\n",
       "      <td>Bitcoin</td>\n",
       "      <td>BTC</td>\n",
       "      <td>2013-05-04 23:59:59</td>\n",
       "      <td>115.000000</td>\n",
       "      <td>92.500000</td>\n",
       "      <td>98.099998</td>\n",
       "      <td>112.500000</td>\n",
       "      <td>0.0</td>\n",
       "      <td>1.250317e+09</td>\n",
       "    </tr>\n",
       "    <tr>\n",
       "      <th>6</th>\n",
       "      <td>7</td>\n",
       "      <td>Bitcoin</td>\n",
       "      <td>BTC</td>\n",
       "      <td>2013-05-05 23:59:59</td>\n",
       "      <td>118.800003</td>\n",
       "      <td>107.142998</td>\n",
       "      <td>112.900002</td>\n",
       "      <td>115.910004</td>\n",
       "      <td>0.0</td>\n",
       "      <td>1.288693e+09</td>\n",
       "    </tr>\n",
       "    <tr>\n",
       "      <th>7</th>\n",
       "      <td>8</td>\n",
       "      <td>Bitcoin</td>\n",
       "      <td>BTC</td>\n",
       "      <td>2013-05-06 23:59:59</td>\n",
       "      <td>124.663002</td>\n",
       "      <td>106.639999</td>\n",
       "      <td>115.980003</td>\n",
       "      <td>112.300003</td>\n",
       "      <td>0.0</td>\n",
       "      <td>1.249023e+09</td>\n",
       "    </tr>\n",
       "    <tr>\n",
       "      <th>8</th>\n",
       "      <td>9</td>\n",
       "      <td>Bitcoin</td>\n",
       "      <td>BTC</td>\n",
       "      <td>2013-05-07 23:59:59</td>\n",
       "      <td>113.444000</td>\n",
       "      <td>97.699997</td>\n",
       "      <td>112.250000</td>\n",
       "      <td>111.500000</td>\n",
       "      <td>0.0</td>\n",
       "      <td>1.240594e+09</td>\n",
       "    </tr>\n",
       "    <tr>\n",
       "      <th>9</th>\n",
       "      <td>10</td>\n",
       "      <td>Bitcoin</td>\n",
       "      <td>BTC</td>\n",
       "      <td>2013-05-08 23:59:59</td>\n",
       "      <td>115.779999</td>\n",
       "      <td>109.599998</td>\n",
       "      <td>109.599998</td>\n",
       "      <td>113.566002</td>\n",
       "      <td>0.0</td>\n",
       "      <td>1.264049e+09</td>\n",
       "    </tr>\n",
       "  </tbody>\n",
       "</table>\n",
       "</div>"
      ],
      "text/plain": [
       "   SNo     Name Symbol                 Date        High         Low  \\\n",
       "0    1  Bitcoin    BTC  2013-04-29 23:59:59  147.488007  134.000000   \n",
       "1    2  Bitcoin    BTC  2013-04-30 23:59:59  146.929993  134.050003   \n",
       "2    3  Bitcoin    BTC  2013-05-01 23:59:59  139.889999  107.720001   \n",
       "3    4  Bitcoin    BTC  2013-05-02 23:59:59  125.599998   92.281898   \n",
       "4    5  Bitcoin    BTC  2013-05-03 23:59:59  108.127998   79.099998   \n",
       "5    6  Bitcoin    BTC  2013-05-04 23:59:59  115.000000   92.500000   \n",
       "6    7  Bitcoin    BTC  2013-05-05 23:59:59  118.800003  107.142998   \n",
       "7    8  Bitcoin    BTC  2013-05-06 23:59:59  124.663002  106.639999   \n",
       "8    9  Bitcoin    BTC  2013-05-07 23:59:59  113.444000   97.699997   \n",
       "9   10  Bitcoin    BTC  2013-05-08 23:59:59  115.779999  109.599998   \n",
       "\n",
       "         Open       Close  Volume     Marketcap  \n",
       "0  134.444000  144.539993     0.0  1.603769e+09  \n",
       "1  144.000000  139.000000     0.0  1.542813e+09  \n",
       "2  139.000000  116.989998     0.0  1.298955e+09  \n",
       "3  116.379997  105.209999     0.0  1.168517e+09  \n",
       "4  106.250000   97.750000     0.0  1.085995e+09  \n",
       "5   98.099998  112.500000     0.0  1.250317e+09  \n",
       "6  112.900002  115.910004     0.0  1.288693e+09  \n",
       "7  115.980003  112.300003     0.0  1.249023e+09  \n",
       "8  112.250000  111.500000     0.0  1.240594e+09  \n",
       "9  109.599998  113.566002     0.0  1.264049e+09  "
      ]
     },
     "execution_count": 1,
     "metadata": {},
     "output_type": "execute_result"
    }
   ],
   "source": [
    "# Bitcoin\n",
    "\n",
    "# Read\n",
    "\n",
    "import pandas as pd\n",
    "\n",
    "bitcoin_df = pd.read_csv(\"coin_Bitcoin.csv\")\n",
    "bitcoin_df.head(10)"
   ]
  },
  {
   "cell_type": "code",
   "execution_count": 2,
   "id": "2e3d567a",
   "metadata": {},
   "outputs": [],
   "source": [
    "# Replace Headers\n",
    "bitcoin_df_renamed = bitcoin_df.rename(columns={\"SNo\": \"sno\", \"Name\": \"currency\", \"Symbol\": \"symbol\", \"Date\": \"date_time\", \"High\": \"high_price_usd\", \"Low\": \"low_price_usd\", \"Open\": \"open_price_usd\", \"Close\": \"close_price_usd\", \"Volume\": \"trade_volume_usd\", \"Marketcap\": \"marketcap_usd\" })"
   ]
  },
  {
   "cell_type": "code",
   "execution_count": 3,
   "id": "696c2f24",
   "metadata": {},
   "outputs": [
    {
     "data": {
      "text/plain": [
       "(2862, 10)"
      ]
     },
     "execution_count": 3,
     "metadata": {},
     "output_type": "execute_result"
    }
   ],
   "source": [
    "# Checking size\n",
    "bitcoin_df.shape\n",
    "# 2862 Rows, 10 Columns"
   ]
  },
  {
   "cell_type": "code",
   "execution_count": 4,
   "id": "229d3ed7",
   "metadata": {},
   "outputs": [
    {
     "data": {
      "text/plain": [
       "(2862, 10)"
      ]
     },
     "execution_count": 4,
     "metadata": {},
     "output_type": "execute_result"
    }
   ],
   "source": [
    "# Checking size of new df\n",
    "bitcoin_df_renamed.shape\n",
    "# 2862 Rows, 10 Columns"
   ]
  },
  {
   "cell_type": "code",
   "execution_count": 5,
   "id": "b7dd2508",
   "metadata": {},
   "outputs": [
    {
     "data": {
      "text/html": [
       "<div>\n",
       "<style scoped>\n",
       "    .dataframe tbody tr th:only-of-type {\n",
       "        vertical-align: middle;\n",
       "    }\n",
       "\n",
       "    .dataframe tbody tr th {\n",
       "        vertical-align: top;\n",
       "    }\n",
       "\n",
       "    .dataframe thead th {\n",
       "        text-align: right;\n",
       "    }\n",
       "</style>\n",
       "<table border=\"1\" class=\"dataframe\">\n",
       "  <thead>\n",
       "    <tr style=\"text-align: right;\">\n",
       "      <th></th>\n",
       "      <th>currency</th>\n",
       "      <th>date_time</th>\n",
       "      <th>high_price_usd</th>\n",
       "      <th>low_price_usd</th>\n",
       "      <th>open_price_usd</th>\n",
       "      <th>close_price_usd</th>\n",
       "      <th>trade_volume_usd</th>\n",
       "      <th>marketcap_usd</th>\n",
       "    </tr>\n",
       "  </thead>\n",
       "  <tbody>\n",
       "    <tr>\n",
       "      <th>0</th>\n",
       "      <td>Bitcoin</td>\n",
       "      <td>2013-04-29 23:59:59</td>\n",
       "      <td>147.488007</td>\n",
       "      <td>134.000000</td>\n",
       "      <td>134.444000</td>\n",
       "      <td>144.539993</td>\n",
       "      <td>0.0</td>\n",
       "      <td>1.603769e+09</td>\n",
       "    </tr>\n",
       "    <tr>\n",
       "      <th>1</th>\n",
       "      <td>Bitcoin</td>\n",
       "      <td>2013-04-30 23:59:59</td>\n",
       "      <td>146.929993</td>\n",
       "      <td>134.050003</td>\n",
       "      <td>144.000000</td>\n",
       "      <td>139.000000</td>\n",
       "      <td>0.0</td>\n",
       "      <td>1.542813e+09</td>\n",
       "    </tr>\n",
       "    <tr>\n",
       "      <th>2</th>\n",
       "      <td>Bitcoin</td>\n",
       "      <td>2013-05-01 23:59:59</td>\n",
       "      <td>139.889999</td>\n",
       "      <td>107.720001</td>\n",
       "      <td>139.000000</td>\n",
       "      <td>116.989998</td>\n",
       "      <td>0.0</td>\n",
       "      <td>1.298955e+09</td>\n",
       "    </tr>\n",
       "    <tr>\n",
       "      <th>3</th>\n",
       "      <td>Bitcoin</td>\n",
       "      <td>2013-05-02 23:59:59</td>\n",
       "      <td>125.599998</td>\n",
       "      <td>92.281898</td>\n",
       "      <td>116.379997</td>\n",
       "      <td>105.209999</td>\n",
       "      <td>0.0</td>\n",
       "      <td>1.168517e+09</td>\n",
       "    </tr>\n",
       "    <tr>\n",
       "      <th>4</th>\n",
       "      <td>Bitcoin</td>\n",
       "      <td>2013-05-03 23:59:59</td>\n",
       "      <td>108.127998</td>\n",
       "      <td>79.099998</td>\n",
       "      <td>106.250000</td>\n",
       "      <td>97.750000</td>\n",
       "      <td>0.0</td>\n",
       "      <td>1.085995e+09</td>\n",
       "    </tr>\n",
       "    <tr>\n",
       "      <th>5</th>\n",
       "      <td>Bitcoin</td>\n",
       "      <td>2013-05-04 23:59:59</td>\n",
       "      <td>115.000000</td>\n",
       "      <td>92.500000</td>\n",
       "      <td>98.099998</td>\n",
       "      <td>112.500000</td>\n",
       "      <td>0.0</td>\n",
       "      <td>1.250317e+09</td>\n",
       "    </tr>\n",
       "    <tr>\n",
       "      <th>6</th>\n",
       "      <td>Bitcoin</td>\n",
       "      <td>2013-05-05 23:59:59</td>\n",
       "      <td>118.800003</td>\n",
       "      <td>107.142998</td>\n",
       "      <td>112.900002</td>\n",
       "      <td>115.910004</td>\n",
       "      <td>0.0</td>\n",
       "      <td>1.288693e+09</td>\n",
       "    </tr>\n",
       "    <tr>\n",
       "      <th>7</th>\n",
       "      <td>Bitcoin</td>\n",
       "      <td>2013-05-06 23:59:59</td>\n",
       "      <td>124.663002</td>\n",
       "      <td>106.639999</td>\n",
       "      <td>115.980003</td>\n",
       "      <td>112.300003</td>\n",
       "      <td>0.0</td>\n",
       "      <td>1.249023e+09</td>\n",
       "    </tr>\n",
       "    <tr>\n",
       "      <th>8</th>\n",
       "      <td>Bitcoin</td>\n",
       "      <td>2013-05-07 23:59:59</td>\n",
       "      <td>113.444000</td>\n",
       "      <td>97.699997</td>\n",
       "      <td>112.250000</td>\n",
       "      <td>111.500000</td>\n",
       "      <td>0.0</td>\n",
       "      <td>1.240594e+09</td>\n",
       "    </tr>\n",
       "    <tr>\n",
       "      <th>9</th>\n",
       "      <td>Bitcoin</td>\n",
       "      <td>2013-05-08 23:59:59</td>\n",
       "      <td>115.779999</td>\n",
       "      <td>109.599998</td>\n",
       "      <td>109.599998</td>\n",
       "      <td>113.566002</td>\n",
       "      <td>0.0</td>\n",
       "      <td>1.264049e+09</td>\n",
       "    </tr>\n",
       "  </tbody>\n",
       "</table>\n",
       "</div>"
      ],
      "text/plain": [
       "  currency            date_time  high_price_usd  low_price_usd  \\\n",
       "0  Bitcoin  2013-04-29 23:59:59      147.488007     134.000000   \n",
       "1  Bitcoin  2013-04-30 23:59:59      146.929993     134.050003   \n",
       "2  Bitcoin  2013-05-01 23:59:59      139.889999     107.720001   \n",
       "3  Bitcoin  2013-05-02 23:59:59      125.599998      92.281898   \n",
       "4  Bitcoin  2013-05-03 23:59:59      108.127998      79.099998   \n",
       "5  Bitcoin  2013-05-04 23:59:59      115.000000      92.500000   \n",
       "6  Bitcoin  2013-05-05 23:59:59      118.800003     107.142998   \n",
       "7  Bitcoin  2013-05-06 23:59:59      124.663002     106.639999   \n",
       "8  Bitcoin  2013-05-07 23:59:59      113.444000      97.699997   \n",
       "9  Bitcoin  2013-05-08 23:59:59      115.779999     109.599998   \n",
       "\n",
       "   open_price_usd  close_price_usd  trade_volume_usd  marketcap_usd  \n",
       "0      134.444000       144.539993               0.0   1.603769e+09  \n",
       "1      144.000000       139.000000               0.0   1.542813e+09  \n",
       "2      139.000000       116.989998               0.0   1.298955e+09  \n",
       "3      116.379997       105.209999               0.0   1.168517e+09  \n",
       "4      106.250000        97.750000               0.0   1.085995e+09  \n",
       "5       98.099998       112.500000               0.0   1.250317e+09  \n",
       "6      112.900002       115.910004               0.0   1.288693e+09  \n",
       "7      115.980003       112.300003               0.0   1.249023e+09  \n",
       "8      112.250000       111.500000               0.0   1.240594e+09  \n",
       "9      109.599998       113.566002               0.0   1.264049e+09  "
      ]
     },
     "execution_count": 5,
     "metadata": {},
     "output_type": "execute_result"
    }
   ],
   "source": [
    "# Subsetting original dataset to ONLY relevant columns.\n",
    "bitcoin_df_subset = bitcoin_df_renamed[['currency','date_time','high_price_usd','low_price_usd','open_price_usd','close_price_usd','trade_volume_usd','marketcap_usd']]\n",
    "bitcoin_df_subset.head(10)"
   ]
  },
  {
   "cell_type": "code",
   "execution_count": 6,
   "id": "fc29a41d",
   "metadata": {},
   "outputs": [
    {
     "data": {
      "text/plain": [
       "(2862, 8)"
      ]
     },
     "execution_count": 6,
     "metadata": {},
     "output_type": "execute_result"
    }
   ],
   "source": [
    "# Checking size of new df\n",
    "bitcoin_df_subset.shape\n",
    "# 2862 Rows, 8 Columns"
   ]
  },
  {
   "cell_type": "code",
   "execution_count": 7,
   "id": "ed9f8b73",
   "metadata": {},
   "outputs": [
    {
     "data": {
      "image/png": "[encoded data removed]",
      "text/plain": [
       "<Figure size 432x288 with 1 Axes>"
      ]
     },
     "metadata": {
      "needs_background": "light"
     },
     "output_type": "display_data"
    },
    {
     "data": {
      "image/png": "[encoded data removed]",
      "text/plain": [
       "<Figure size 432x288 with 1 Axes>"
      ]
     },
     "metadata": {
      "needs_background": "light"
     },
     "output_type": "display_data"
    },
    {
     "data": {
      "image/png": "[encoded data removed]",
      "text/plain": [
       "<Figure size 432x288 with 1 Axes>"
      ]
     },
     "metadata": {
      "needs_background": "light"
     },
     "output_type": "display_data"
    },
    {
     "data": {
      "image/png": "[encoded data removed]",
      "text/plain": [
       "<Figure size 432x288 with 1 Axes>"
      ]
     },
     "metadata": {
      "needs_background": "light"
     },
     "output_type": "display_data"
    },
    {
     "data": {
      "image/png": "[encoded data removed]",
      "text/plain": [
       "<Figure size 432x288 with 1 Axes>"
      ]
     },
     "metadata": {
      "needs_background": "light"
     },
     "output_type": "display_data"
    },
    {
     "data": {
      "image/png": "[encoded data removed]",
      "text/plain": [
       "<Figure size 432x288 with 1 Axes>"
      ]
     },
     "metadata": {
      "needs_background": "light"
     },
     "output_type": "display_data"
    },
    {
     "data": {
      "image/png": "[encoded data removed]",
      "text/plain": [
       "<Figure size 432x288 with 1 Axes>"
      ]
     },
     "metadata": {
      "needs_background": "light"
     },
     "output_type": "display_data"
    },
    {
     "data": {
      "image/png": "[encoded data removed]",
      "text/plain": [
       "<Figure size 432x288 with 1 Axes>"
      ]
     },
     "metadata": {
      "needs_background": "light"
     },
     "output_type": "display_data"
    }
   ],
   "source": [
    "# Plotting a histogram of all variables\n",
    "import matplotlib.pyplot as plt\n",
    "\n",
    "for col in bitcoin_df_subset.columns:\n",
    "    plt.title('Plot of '+ col)\n",
    "    plt.hist(bitcoin_df_subset[col],bins=25)\n",
    "    plt.grid()\n",
    "    plt.show()"
   ]
  },
  {
   "cell_type": "code",
   "execution_count": 8,
   "id": "42940478",
   "metadata": {},
   "outputs": [
    {
     "data": {
      "text/html": [
       "<div>\n",
       "<style scoped>\n",
       "    .dataframe tbody tr th:only-of-type {\n",
       "        vertical-align: middle;\n",
       "    }\n",
       "\n",
       "    .dataframe tbody tr th {\n",
       "        vertical-align: top;\n",
       "    }\n",
       "\n",
       "    .dataframe thead th {\n",
       "        text-align: right;\n",
       "    }\n",
       "</style>\n",
       "<table border=\"1\" class=\"dataframe\">\n",
       "  <thead>\n",
       "    <tr style=\"text-align: right;\">\n",
       "      <th></th>\n",
       "      <th>high_price_usd</th>\n",
       "      <th>low_price_usd</th>\n",
       "      <th>open_price_usd</th>\n",
       "      <th>close_price_usd</th>\n",
       "      <th>trade_volume_usd</th>\n",
       "      <th>marketcap_usd</th>\n",
       "    </tr>\n",
       "  </thead>\n",
       "  <tbody>\n",
       "    <tr>\n",
       "      <th>count</th>\n",
       "      <td>2862.000000</td>\n",
       "      <td>2862.000000</td>\n",
       "      <td>2862.000000</td>\n",
       "      <td>2862.000000</td>\n",
       "      <td>2.862000e+03</td>\n",
       "      <td>2.862000e+03</td>\n",
       "    </tr>\n",
       "    <tr>\n",
       "      <th>mean</th>\n",
       "      <td>4974.040239</td>\n",
       "      <td>4695.103027</td>\n",
       "      <td>4836.306834</td>\n",
       "      <td>4852.092547</td>\n",
       "      <td>8.978475e+09</td>\n",
       "      <td>8.591622e+10</td>\n",
       "    </tr>\n",
       "    <tr>\n",
       "      <th>std</th>\n",
       "      <td>7188.836678</td>\n",
       "      <td>6667.197596</td>\n",
       "      <td>6933.573446</td>\n",
       "      <td>6975.105869</td>\n",
       "      <td>1.658135e+10</td>\n",
       "      <td>1.287414e+11</td>\n",
       "    </tr>\n",
       "    <tr>\n",
       "      <th>min</th>\n",
       "      <td>74.561096</td>\n",
       "      <td>65.526001</td>\n",
       "      <td>68.504997</td>\n",
       "      <td>68.431000</td>\n",
       "      <td>0.000000e+00</td>\n",
       "      <td>7.784112e+08</td>\n",
       "    </tr>\n",
       "    <tr>\n",
       "      <th>25%</th>\n",
       "      <td>426.047752</td>\n",
       "      <td>415.675751</td>\n",
       "      <td>421.204506</td>\n",
       "      <td>420.989243</td>\n",
       "      <td>2.786250e+07</td>\n",
       "      <td>5.988997e+09</td>\n",
       "    </tr>\n",
       "    <tr>\n",
       "      <th>50%</th>\n",
       "      <td>1197.334961</td>\n",
       "      <td>1164.174988</td>\n",
       "      <td>1180.100037</td>\n",
       "      <td>1182.809998</td>\n",
       "      <td>3.301950e+08</td>\n",
       "      <td>1.924238e+10</td>\n",
       "    </tr>\n",
       "    <tr>\n",
       "      <th>75%</th>\n",
       "      <td>8138.046589</td>\n",
       "      <td>7703.357500</td>\n",
       "      <td>7924.612338</td>\n",
       "      <td>7926.696939</td>\n",
       "      <td>1.296743e+10</td>\n",
       "      <td>1.387658e+11</td>\n",
       "    </tr>\n",
       "    <tr>\n",
       "      <th>max</th>\n",
       "      <td>58330.572142</td>\n",
       "      <td>55672.609513</td>\n",
       "      <td>57532.738864</td>\n",
       "      <td>57539.943668</td>\n",
       "      <td>3.509679e+11</td>\n",
       "      <td>1.072263e+12</td>\n",
       "    </tr>\n",
       "  </tbody>\n",
       "</table>\n",
       "</div>"
      ],
      "text/plain": [
       "       high_price_usd  low_price_usd  open_price_usd  close_price_usd  \\\n",
       "count     2862.000000    2862.000000     2862.000000      2862.000000   \n",
       "mean      4974.040239    4695.103027     4836.306834      4852.092547   \n",
       "std       7188.836678    6667.197596     6933.573446      6975.105869   \n",
       "min         74.561096      65.526001       68.504997        68.431000   \n",
       "25%        426.047752     415.675751      421.204506       420.989243   \n",
       "50%       1197.334961    1164.174988     1180.100037      1182.809998   \n",
       "75%       8138.046589    7703.357500     7924.612338      7926.696939   \n",
       "max      58330.572142   55672.609513    57532.738864     57539.943668   \n",
       "\n",
       "       trade_volume_usd  marketcap_usd  \n",
       "count      2.862000e+03   2.862000e+03  \n",
       "mean       8.978475e+09   8.591622e+10  \n",
       "std        1.658135e+10   1.287414e+11  \n",
       "min        0.000000e+00   7.784112e+08  \n",
       "25%        2.786250e+07   5.988997e+09  \n",
       "50%        3.301950e+08   1.924238e+10  \n",
       "75%        1.296743e+10   1.387658e+11  \n",
       "max        3.509679e+11   1.072263e+12  "
      ]
     },
     "execution_count": 8,
     "metadata": {},
     "output_type": "execute_result"
    }
   ],
   "source": [
    "# Descriptive stats\n",
    "bitcoin_df_subset.describe()"
   ]
  },
  {
   "cell_type": "markdown",
   "id": "3a8a85a6",
   "metadata": {},
   "source": [
    "## Observation\n",
    "\n",
    "It is clear, from the histograms and descriptive statistics, that Bitcoins price, trade volume and market cap have changed significantly ONLY in the recent years."
   ]
  },
  {
   "cell_type": "code",
   "execution_count": 9,
   "id": "4e2a9225",
   "metadata": {},
   "outputs": [
    {
     "data": {
      "text/plain": [
       "currency            0\n",
       "date_time           0\n",
       "high_price_usd      0\n",
       "low_price_usd       0\n",
       "open_price_usd      0\n",
       "close_price_usd     0\n",
       "trade_volume_usd    0\n",
       "marketcap_usd       0\n",
       "dtype: int64"
      ]
     },
     "execution_count": 9,
     "metadata": {},
     "output_type": "execute_result"
    }
   ],
   "source": [
    "# Checking null values\n",
    "bitcoin_df_subset.isnull().sum()\n",
    "# There are no missing values"
   ]
  },
  {
   "cell_type": "code",
   "execution_count": 10,
   "id": "52071546",
   "metadata": {},
   "outputs": [
    {
     "name": "stdout",
     "output_type": "stream",
     "text": [
      "There are 1 unique values in 'currency'. They are: ['Bitcoin']\n",
      "\n",
      "There are 2862 unique values in 'date_time'. They are: ['2013-04-29 23:59:59' '2013-04-30 23:59:59' '2013-05-01 23:59:59' ...\n",
      " '2021-02-25 23:59:59' '2021-02-26 23:59:59' '2021-02-27 23:59:59']\n",
      "\n",
      "There are 2852 unique values in 'high_price_usd'. They are: [  147.48800659   146.92999268   139.88999939 ... 51948.96698227\n",
      " 48370.78525976 48253.27010115]\n",
      "\n",
      "There are 2856 unique values in 'low_price_usd'. They are: [  134.           134.05000305   107.72000122 ... 47093.85301914\n",
      " 44454.84211387 45269.0257658 ]\n",
      "\n",
      "There are 2855 unique values in 'open_price_usd'. They are: [  134.44400024   144.           139.         ... 49709.08242476\n",
      " 47180.4640539  46344.77223734]\n",
      "\n",
      "There are 2849 unique values in 'close_price_usd'. They are: [  144.53999329   139.           116.98999786 ... 47093.85301914\n",
      " 46339.76008289 46188.45127539]\n",
      "\n",
      "There are 2621 unique values in 'trade_volume_usd'. They are: [0.00000000e+00 4.68627000e+07 3.25058000e+07 ... 5.45065659e+10\n",
      " 3.50967941e+11 4.59109464e+10]\n",
      "\n",
      "There are 2861 unique values in 'marketcap_usd'. They are: [1.60376886e+09 1.54281312e+09 1.29895459e+09 ... 8.77766126e+11\n",
      " 8.63752275e+11 8.60978135e+11]\n",
      "\n"
     ]
    }
   ],
   "source": [
    "# Unique values - checking for duplicate issues - in bitcoin_df_subset\n",
    "\n",
    "column_names =['currency','date_time', 'high_price_usd', 'low_price_usd', 'open_price_usd', 'close_price_usd', 'trade_volume_usd', 'marketcap_usd']\n",
    "for v in column_names:\n",
    "    unique_values = bitcoin_df_subset[v].unique()\n",
    "    unique_values_num = bitcoin_df_subset[v].nunique()\n",
    "    print(\"There are {} unique values in '{}'. They are: {}\".format(unique_values_num,v,unique_values))\n",
    "    print()\n",
    "\n",
    "# Fortunately, we don't have any duplicates dates and other cryptocurrencies, besides bitcoin.\n",
    " \n",
    "# The rest of the columns are expected to NOT have unique values"
   ]
  },
  {
   "cell_type": "code",
   "execution_count": 11,
   "id": "6ed67a35",
   "metadata": {},
   "outputs": [
    {
     "data": {
      "text/plain": [
       "(2862, 8)"
      ]
     },
     "execution_count": 11,
     "metadata": {},
     "output_type": "execute_result"
    }
   ],
   "source": [
    "# Subsetting dataframe further, to remove rows where \n",
    "# high_price_usd, low_price_usd, open_price_usd, close_price_usd, trade_volume_usd and marketcap_usd are ZERO.\n",
    "\n",
    "bitcoin_df_subset_high = bitcoin_df_subset[(bitcoin_df_subset['high_price_usd'] != 0)]\n",
    "bitcoin_df_subset_high.shape\n",
    "# 2862 rows and 8 columns. Indicating there are no ZERO values in high_price_usd"
   ]
  },
  {
   "cell_type": "code",
   "execution_count": 12,
   "id": "7fa3fd65",
   "metadata": {},
   "outputs": [
    {
     "data": {
      "text/plain": [
       "(2862, 8)"
      ]
     },
     "execution_count": 12,
     "metadata": {},
     "output_type": "execute_result"
    }
   ],
   "source": [
    "bitcoin_df_subset_low = bitcoin_df_subset[(bitcoin_df_subset['low_price_usd'] != 0)]\n",
    "bitcoin_df_subset_low.shape\n",
    "# 2862 rows and 8 columns. Indicating there are no ZERO values in low_price_usd"
   ]
  },
  {
   "cell_type": "code",
   "execution_count": 13,
   "id": "926ae1ba",
   "metadata": {},
   "outputs": [
    {
     "data": {
      "text/plain": [
       "(2862, 8)"
      ]
     },
     "execution_count": 13,
     "metadata": {},
     "output_type": "execute_result"
    }
   ],
   "source": [
    "bitcoin_df_subset_open = bitcoin_df_subset[(bitcoin_df_subset['open_price_usd'] != 0)]\n",
    "bitcoin_df_subset_open.shape\n",
    "# 2862 rows and 8 columns. Indicating there are no ZERO values in open_price_usd"
   ]
  },
  {
   "cell_type": "code",
   "execution_count": 14,
   "id": "790a5708",
   "metadata": {},
   "outputs": [
    {
     "data": {
      "text/plain": [
       "(2620, 8)"
      ]
     },
     "execution_count": 14,
     "metadata": {},
     "output_type": "execute_result"
    }
   ],
   "source": [
    "bitcoin_df_subset_trade = bitcoin_df_subset[(bitcoin_df_subset['trade_volume_usd'] != 0)]\n",
    "bitcoin_df_subset_trade.shape\n",
    "# 2620 rows and 8 columns. trade_volume_usd had 242 rows with ZEROs."
   ]
  },
  {
   "cell_type": "code",
   "execution_count": 15,
   "id": "3395ca22",
   "metadata": {},
   "outputs": [
    {
     "data": {
      "text/plain": [
       "(2862, 8)"
      ]
     },
     "execution_count": 15,
     "metadata": {},
     "output_type": "execute_result"
    }
   ],
   "source": [
    "bitcoin_df_subset_market = bitcoin_df_subset[(bitcoin_df_subset['marketcap_usd'] != 0)]\n",
    "bitcoin_df_subset_market.shape\n",
    "# 2862 rows and 8 columns. Indicating there are no ZERO values in marketcap_usd"
   ]
  },
  {
   "cell_type": "code",
   "execution_count": 16,
   "id": "42733efd",
   "metadata": {},
   "outputs": [
    {
     "data": {
      "text/plain": [
       "(2620, 8)"
      ]
     },
     "execution_count": 16,
     "metadata": {},
     "output_type": "execute_result"
    }
   ],
   "source": [
    "# So final dataset should be the dataset we got from removing rows where trade_volume_usd was ZERO\n",
    "\n",
    "bitcoin_df_subset_final = bitcoin_df_subset_trade\n",
    "bitcoin_df_subset_final.shape\n",
    "# 2620 rows and 8 columns"
   ]
  },
  {
   "cell_type": "code",
   "execution_count": 17,
   "id": "7c5f30aa",
   "metadata": {},
   "outputs": [
    {
     "data": {
      "text/plain": [
       "Text(0.5, 1.0, 'Scatter Plot between High price vs Low price to see extreme variations')"
      ]
     },
     "execution_count": 17,
     "metadata": {},
     "output_type": "execute_result"
    },
    {
     "data": {
      "image/png": "[encoded data removed]",
      "text/plain": [
       "<Figure size 432x288 with 1 Axes>"
      ]
     },
     "metadata": {
      "needs_background": "light"
     },
     "output_type": "display_data"
    }
   ],
   "source": [
    "# Checking for outliers and data quality on high_price_usd, low_price_usd, open_price_usd, close_price_usd, trade_volume_usd, and marketcap_usd\n",
    "# Scatter plots\n",
    "plt.scatter((bitcoin_df_subset_final['high_price_usd']), bitcoin_df_subset_final['low_price_usd'], c='purple')\n",
    "plt.xlabel(\"High Price Per the Day\")\n",
    "plt.ylabel(\"Low Price Per the Day\")\n",
    "plt.grid()\n",
    "plt.title(\"Scatter Plot between High price vs Low price to see extreme variations\")\n",
    "\n",
    "# There are no extreme variations in price between high and low. Meaning, there are no outliers in high price and low price for the timeline"
   ]
  },
  {
   "cell_type": "code",
   "execution_count": 18,
   "id": "4627c8e9",
   "metadata": {},
   "outputs": [
    {
     "data": {
      "text/plain": [
       "Text(0.5, 1.0, 'Scatter Plot between Open price vs Close price to see extreme variations')"
      ]
     },
     "execution_count": 18,
     "metadata": {},
     "output_type": "execute_result"
    },
    {
     "data": {
      "image/png": "[encoded data removed]",
      "text/plain": [
       "<Figure size 432x288 with 1 Axes>"
      ]
     },
     "metadata": {
      "needs_background": "light"
     },
     "output_type": "display_data"
    }
   ],
   "source": [
    "\n",
    "plt.scatter((bitcoin_df_subset_final['open_price_usd']), bitcoin_df_subset_final['close_price_usd'], c='green')\n",
    "plt.xlabel(\"Open Price Per the Day\")\n",
    "plt.ylabel(\"Close Price Per the Day\")\n",
    "plt.grid()\n",
    "plt.title(\"Scatter Plot between Open price vs Close price to see extreme variations\")\n",
    "\n",
    "# There are no extreme variations in price between open and close"
   ]
  },
  {
   "cell_type": "markdown",
   "id": "d79026e6",
   "metadata": {},
   "source": [
    "## Note:\n",
    "\n",
    "We have to be careful not to remove some of the evident variations, because they could be indications of an influential event. Eg: A twitter post that might have influenced the variation.\n",
    "\n",
    "So, I am taking the approach of keeping all values (no outliers) in high_price_usd, low_price_usd, open_price_usd and close_price_usd as no point in the scatter plot is too far from the usual trend. "
   ]
  },
  {
   "cell_type": "code",
   "execution_count": 19,
   "id": "01c9c235",
   "metadata": {},
   "outputs": [
    {
     "data": {
      "text/plain": [
       "{'whiskers': [<matplotlib.lines.Line2D at 0x24f0fc463a0>,\n",
       "  <matplotlib.lines.Line2D at 0x24f0fc46700>],\n",
       " 'caps': [<matplotlib.lines.Line2D at 0x24f0fc46a60>,\n",
       "  <matplotlib.lines.Line2D at 0x24f0fc46dc0>],\n",
       " 'boxes': [<matplotlib.lines.Line2D at 0x24f0fc46040>],\n",
       " 'medians': [<matplotlib.lines.Line2D at 0x24f12cc2160>],\n",
       " 'fliers': [<matplotlib.lines.Line2D at 0x24f12cc24c0>],\n",
       " 'means': []}"
      ]
     },
     "execution_count": 19,
     "metadata": {},
     "output_type": "execute_result"
    },
    {
     "data": {
      "image/png": "[encoded data removed]",
      "text/plain": [
       "<Figure size 432x288 with 1 Axes>"
      ]
     },
     "metadata": {
      "needs_background": "light"
     },
     "output_type": "display_data"
    }
   ],
   "source": [
    "plt.boxplot(bitcoin_df_subset_final.trade_volume_usd, notch=True)\n",
    "# The boxplot shows one outlier for trade_volume at 3.5 some value. So, we will remove this value in our new subset."
   ]
  },
  {
   "cell_type": "code",
   "execution_count": 20,
   "id": "eefc80af",
   "metadata": {},
   "outputs": [
    {
     "name": "stderr",
     "output_type": "stream",
     "text": [
      "<ipython-input-20-2fdd42eb9af0>:1: UserWarning: Boolean Series key will be reindexed to match DataFrame index.\n",
      "  bitcoin_df_subset_final = bitcoin_df_subset_final[(bitcoin_df_subset['trade_volume_usd'] < 3.509679e+11)] # got this value from max in descriptive statistics\n"
     ]
    },
    {
     "data": {
      "text/plain": [
       "(2619, 8)"
      ]
     },
     "execution_count": 20,
     "metadata": {},
     "output_type": "execute_result"
    }
   ],
   "source": [
    "bitcoin_df_subset_final = bitcoin_df_subset_final[(bitcoin_df_subset['trade_volume_usd'] < 3.509679e+11)] # got this value from max in descriptive statistics\n",
    "bitcoin_df_subset_final.shape\n",
    "# 2619 rows and 8 columns. The one value has been removed."
   ]
  },
  {
   "cell_type": "code",
   "execution_count": 21,
   "id": "765cc766",
   "metadata": {},
   "outputs": [
    {
     "data": {
      "text/plain": [
       "{'whiskers': [<matplotlib.lines.Line2D at 0x24f113e97c0>,\n",
       "  <matplotlib.lines.Line2D at 0x24f113e9b20>],\n",
       " 'caps': [<matplotlib.lines.Line2D at 0x24f113e9e80>,\n",
       "  <matplotlib.lines.Line2D at 0x24f113e1220>],\n",
       " 'boxes': [<matplotlib.lines.Line2D at 0x24f113e9460>],\n",
       " 'medians': [<matplotlib.lines.Line2D at 0x24f113e1580>],\n",
       " 'fliers': [<matplotlib.lines.Line2D at 0x24f113e18e0>],\n",
       " 'means': []}"
      ]
     },
     "execution_count": 21,
     "metadata": {},
     "output_type": "execute_result"
    },
    {
     "data": {
      "image/png": "[encoded data removed]",
      "text/plain": [
       "<Figure size 432x288 with 1 Axes>"
      ]
     },
     "metadata": {
      "needs_background": "light"
     },
     "output_type": "display_data"
    }
   ],
   "source": [
    "plt.boxplot(bitcoin_df_subset_final.marketcap_usd, notch=True)\n",
    "# The box plot shows several values outside of the \"box\". But, considering bitcoin market capitalization has grown siginificantly \n",
    "# only in recent years. We won't be removing any \"outlying\" values here."
   ]
  },
  {
   "cell_type": "code",
   "execution_count": 22,
   "id": "a6d61f3f",
   "metadata": {},
   "outputs": [
    {
     "data": {
      "text/plain": [
       "(2619, 8)"
      ]
     },
     "execution_count": 22,
     "metadata": {},
     "output_type": "execute_result"
    }
   ],
   "source": [
    "bitcoin_df_subset_final.shape"
   ]
  },
  {
   "cell_type": "markdown",
   "id": "109160d0",
   "metadata": {},
   "source": [
    "## Summary of transformations/checks\n",
    "\n",
    "1. Renamed columns accordingly\n",
    "2. Fixed casing\n",
    "3. Chose a subset of columns based on relevancy and requirement\n",
    "4. Checked for duplicates and null values and found none.\n",
    "5. Removed rows where variables had a ZERO value\n",
    "6. Checked for outliers and removed one obvious outlier associated to trade volume\n",
    "7. Checked for user errors; made sure transformations/checks did not delete data without intent.\n",
    "\n",
    "Final Dataset contains 2619 rows and 8 columns"
   ]
  },
  {
   "cell_type": "code",
   "execution_count": 25,
   "id": "cb424ac7",
   "metadata": {},
   "outputs": [],
   "source": [
    "bitcoin_df_subset_final.to_csv(\"flatfile_milestone2_bitcoin.csv\", index=False)\n"
   ]
  },
  {
   "cell_type": "code",
   "execution_count": null,
   "id": "0914e14b",
   "metadata": {},
   "outputs": [],
   "source": []
  }
 ],
 "metadata": {
  "kernelspec": {
   "display_name": "Python 3 (ipykernel)",
   "language": "python",
   "name": "python3"
  },
  "language_info": {
   "codemirror_mode": {
    "name": "ipython",
    "version": 3
   },
   "file_extension": ".py",
   "mimetype": "text/x-python",
   "name": "python",
   "nbconvert_exporter": "python",
   "pygments_lexer": "ipython3",
   "version": "3.8.13"
  }
 },
 "nbformat": 4,
 "nbformat_minor": 5
}
