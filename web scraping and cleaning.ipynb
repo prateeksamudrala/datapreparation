{
 "cells": [
  {
   "cell_type": "markdown",
   "id": "5fd5bc49",
   "metadata": {},
   "source": [
    "# Bitcoin webscraping and cleaning\n",
    "\n",
    "## Jyothi Samudrala\n",
    "\n",
    "web Source: https://coinmarketcap.com/currencies/bitcoin/historical-data/\n",
    "\n",
    "Data Description:\n",
    "\n",
    "1. Serial No: Serial number of the data\n",
    "2. Name: Name of the currency\n",
    "3. Symbol: Symbol of the currency\n",
    "4. Date: Date of observation\n",
    "5. Open: Opening price on the given day\n",
    "6. High: Highest price on the given day\n",
    "7. Low: Lowest price on the given day\n",
    "8. Close: Closing price on the given day\n",
    "9. Volume: Volume of transactions on the given day\n",
    "10. Market Cap: Market capitalization in USD\n",
    "\n",
    "## Summary of transformations/checks\n",
    "\n",
    "1. Renamed columns accordingly\n",
    "2. Fixed casing\n",
    "3. Chose a subset of columns based on relevancy and requirement.\n",
    "4. Added currency column\n",
    "5. Checked for duplicates and null values and found none.\n",
    "6. Checked for outliers, using scatterplots and boxplots, and removed one obvious outlier associated to trade volume\n",
    "7. Checked for user errors; made sure transformations/checks did not delete data without intent.\n",
    "\n",
    "Final Web Dataset contains 1237 rows and 8 columns"
   ]
  },
  {
   "cell_type": "code",
   "execution_count": 1,
   "id": "f9d9dc5f",
   "metadata": {},
   "outputs": [
    {
     "name": "stdout",
     "output_type": "stream",
     "text": [
      "Requirement already satisfied: Beautifulsoup4 in c:\\users\\prate\\anaconda3\\lib\\site-packages (4.9.3)\n",
      "Requirement already satisfied: soupsieve>1.2 in c:\\users\\prate\\anaconda3\\lib\\site-packages (from Beautifulsoup4) (2.2.1)\n",
      "Note: you may need to restart the kernel to use updated packages.\n"
     ]
    }
   ],
   "source": [
    "pip install Beautifulsoup4\n"
   ]
  },
  {
   "cell_type": "code",
   "execution_count": 2,
   "id": "71cba94e",
   "metadata": {},
   "outputs": [
    {
     "name": "stdout",
     "output_type": "stream",
     "text": [
      "Requirement already satisfied: Requests in c:\\users\\prate\\anaconda3\\lib\\site-packages (2.25.1)\n",
      "Requirement already satisfied: idna<3,>=2.5 in c:\\users\\prate\\anaconda3\\lib\\site-packages (from Requests) (2.10)\n",
      "Requirement already satisfied: urllib3<1.27,>=1.21.1 in c:\\users\\prate\\anaconda3\\lib\\site-packages (from Requests) (1.26.4)\n",
      "Requirement already satisfied: certifi>=2017.4.17 in c:\\users\\prate\\anaconda3\\lib\\site-packages (from Requests) (2021.5.30)\n",
      "Requirement already satisfied: chardet<5,>=3.0.2 in c:\\users\\prate\\anaconda3\\lib\\site-packages (from Requests) (4.0.0)\n",
      "Note: you may need to restart the kernel to use updated packages.\n"
     ]
    }
   ],
   "source": [
    "pip install Requests"
   ]
  },
  {
   "cell_type": "code",
   "execution_count": 3,
   "id": "1c25e8d9",
   "metadata": {},
   "outputs": [
    {
     "name": "stdout",
     "output_type": "stream",
     "text": [
      "Requirement already satisfied: cryptocmd in c:\\users\\prate\\anaconda3\\lib\\site-packages (0.6.0)\n",
      "Requirement already satisfied: tablib in c:\\users\\prate\\anaconda3\\lib\\site-packages (from cryptocmd) (3.0.0)\n",
      "Requirement already satisfied: requests in c:\\users\\prate\\anaconda3\\lib\\site-packages (from cryptocmd) (2.25.1)\n",
      "Requirement already satisfied: chardet<5,>=3.0.2 in c:\\users\\prate\\anaconda3\\lib\\site-packages (from requests->cryptocmd) (4.0.0)\n",
      "Requirement already satisfied: idna<3,>=2.5 in c:\\users\\prate\\anaconda3\\lib\\site-packages (from requests->cryptocmd) (2.10)\n",
      "Requirement already satisfied: certifi>=2017.4.17 in c:\\users\\prate\\anaconda3\\lib\\site-packages (from requests->cryptocmd) (2021.5.30)\n",
      "Requirement already satisfied: urllib3<1.27,>=1.21.1 in c:\\users\\prate\\anaconda3\\lib\\site-packages (from requests->cryptocmd) (1.26.4)\n",
      "Note: you may need to restart the kernel to use updated packages.\n"
     ]
    }
   ],
   "source": [
    "pip install cryptocmd\n"
   ]
  },
  {
   "cell_type": "code",
   "execution_count": 4,
   "id": "8ac99ea2",
   "metadata": {},
   "outputs": [],
   "source": [
    "# Scraping Historical Bitcoin data post 27th Feb 2018. \n"
   ]
  },
  {
   "cell_type": "code",
   "execution_count": 5,
   "id": "0d6d4409",
   "metadata": {},
   "outputs": [
    {
     "data": {
      "text/plain": [
       "(1238, 7)"
      ]
     },
     "execution_count": 5,
     "metadata": {},
     "output_type": "execute_result"
    }
   ],
   "source": [
    "from cryptocmd import CmcScraper\n",
    "\n",
    "# initialise scraper with time interval\n",
    "scraper = CmcScraper(\"BTC\", \"27-02-2018\", \"18-07-2021\")\n",
    "\n",
    "# get raw data as list of list\n",
    "headers, data = scraper.get_data()\n",
    "\n",
    "# get data in a json format\n",
    "json_data = scraper.get_data(\"json\")\n",
    "\n",
    "# export the data to csv\n",
    "scraper.export(\"csv\")\n",
    "\n",
    "# get dataframe for the data\n",
    "df = scraper.get_dataframe()\n",
    "\n",
    "df.shape"
   ]
  },
  {
   "cell_type": "code",
   "execution_count": 6,
   "id": "a316d7ba",
   "metadata": {},
   "outputs": [
    {
     "data": {
      "text/html": [
       "<div>\n",
       "<style scoped>\n",
       "    .dataframe tbody tr th:only-of-type {\n",
       "        vertical-align: middle;\n",
       "    }\n",
       "\n",
       "    .dataframe tbody tr th {\n",
       "        vertical-align: top;\n",
       "    }\n",
       "\n",
       "    .dataframe thead th {\n",
       "        text-align: right;\n",
       "    }\n",
       "</style>\n",
       "<table border=\"1\" class=\"dataframe\">\n",
       "  <thead>\n",
       "    <tr style=\"text-align: right;\">\n",
       "      <th></th>\n",
       "      <th>Date</th>\n",
       "      <th>Open</th>\n",
       "      <th>High</th>\n",
       "      <th>Low</th>\n",
       "      <th>Close</th>\n",
       "      <th>Volume</th>\n",
       "      <th>Market Cap</th>\n",
       "    </tr>\n",
       "  </thead>\n",
       "  <tbody>\n",
       "    <tr>\n",
       "      <th>0</th>\n",
       "      <td>2021-07-18</td>\n",
       "      <td>31533.884720</td>\n",
       "      <td>32398.995186</td>\n",
       "      <td>31215.492310</td>\n",
       "      <td>31796.810138</td>\n",
       "      <td>1.878799e+10</td>\n",
       "      <td>5.965133e+11</td>\n",
       "    </tr>\n",
       "    <tr>\n",
       "      <th>1</th>\n",
       "      <td>2021-07-17</td>\n",
       "      <td>31397.308600</td>\n",
       "      <td>31935.944392</td>\n",
       "      <td>31223.990873</td>\n",
       "      <td>31533.067533</td>\n",
       "      <td>1.889502e+10</td>\n",
       "      <td>5.915365e+11</td>\n",
       "    </tr>\n",
       "    <tr>\n",
       "      <th>2</th>\n",
       "      <td>2021-07-16</td>\n",
       "      <td>31841.551324</td>\n",
       "      <td>32218.406612</td>\n",
       "      <td>31100.673372</td>\n",
       "      <td>31421.538454</td>\n",
       "      <td>2.369948e+10</td>\n",
       "      <td>5.894158e+11</td>\n",
       "    </tr>\n",
       "    <tr>\n",
       "      <th>3</th>\n",
       "      <td>2021-07-15</td>\n",
       "      <td>32827.874549</td>\n",
       "      <td>33159.640948</td>\n",
       "      <td>31175.709747</td>\n",
       "      <td>31780.731374</td>\n",
       "      <td>2.130052e+10</td>\n",
       "      <td>5.961245e+11</td>\n",
       "    </tr>\n",
       "    <tr>\n",
       "      <th>4</th>\n",
       "      <td>2021-07-14</td>\n",
       "      <td>32723.846052</td>\n",
       "      <td>33061.398956</td>\n",
       "      <td>31639.124106</td>\n",
       "      <td>32822.348737</td>\n",
       "      <td>2.137653e+10</td>\n",
       "      <td>6.156350e+11</td>\n",
       "    </tr>\n",
       "  </tbody>\n",
       "</table>\n",
       "</div>"
      ],
      "text/plain": [
       "        Date          Open          High           Low         Close  \\\n",
       "0 2021-07-18  31533.884720  32398.995186  31215.492310  31796.810138   \n",
       "1 2021-07-17  31397.308600  31935.944392  31223.990873  31533.067533   \n",
       "2 2021-07-16  31841.551324  32218.406612  31100.673372  31421.538454   \n",
       "3 2021-07-15  32827.874549  33159.640948  31175.709747  31780.731374   \n",
       "4 2021-07-14  32723.846052  33061.398956  31639.124106  32822.348737   \n",
       "\n",
       "         Volume    Market Cap  \n",
       "0  1.878799e+10  5.965133e+11  \n",
       "1  1.889502e+10  5.915365e+11  \n",
       "2  2.369948e+10  5.894158e+11  \n",
       "3  2.130052e+10  5.961245e+11  \n",
       "4  2.137653e+10  6.156350e+11  "
      ]
     },
     "execution_count": 6,
     "metadata": {},
     "output_type": "execute_result"
    }
   ],
   "source": [
    "df.head()"
   ]
  },
  {
   "cell_type": "markdown",
   "id": "799284bc",
   "metadata": {},
   "source": []
  },
  {
   "cell_type": "code",
   "execution_count": 7,
   "id": "ebb817e6",
   "metadata": {},
   "outputs": [
    {
     "data": {
      "text/plain": [
       "(1238, 7)"
      ]
     },
     "execution_count": 7,
     "metadata": {},
     "output_type": "execute_result"
    }
   ],
   "source": [
    "# Subsetting\n",
    "bitcoin_df_subset = df[['Date','Open','High','Low','Close','Volume','Market Cap']]\n",
    "bitcoin_df_subset.shape"
   ]
  },
  {
   "cell_type": "code",
   "execution_count": 8,
   "id": "df1107fa",
   "metadata": {},
   "outputs": [
    {
     "data": {
      "text/plain": [
       "(1238, 7)"
      ]
     },
     "execution_count": 8,
     "metadata": {},
     "output_type": "execute_result"
    }
   ],
   "source": [
    "# Replacing headers and making data more readable\n",
    "\n",
    "bitcoin_df_renamed = bitcoin_df_subset.rename(columns={\"Date\": \"date_time\", \"High\": \"high_price_usd\", \"Low\": \"low_price_usd\", \"Open\": \"open_price_usd\", \"Close\": \"close_price_usd\", \"Volume\": \"trade_volume_usd\", \"Market Cap\": \"marketcap_usd\" })\n",
    "bitcoin_df_renamed.shape"
   ]
  },
  {
   "cell_type": "code",
   "execution_count": 9,
   "id": "4991bb84",
   "metadata": {},
   "outputs": [
    {
     "data": {
      "text/html": [
       "<div>\n",
       "<style scoped>\n",
       "    .dataframe tbody tr th:only-of-type {\n",
       "        vertical-align: middle;\n",
       "    }\n",
       "\n",
       "    .dataframe tbody tr th {\n",
       "        vertical-align: top;\n",
       "    }\n",
       "\n",
       "    .dataframe thead th {\n",
       "        text-align: right;\n",
       "    }\n",
       "</style>\n",
       "<table border=\"1\" class=\"dataframe\">\n",
       "  <thead>\n",
       "    <tr style=\"text-align: right;\">\n",
       "      <th></th>\n",
       "      <th>date_time</th>\n",
       "      <th>open_price_usd</th>\n",
       "      <th>high_price_usd</th>\n",
       "      <th>low_price_usd</th>\n",
       "      <th>close_price_usd</th>\n",
       "      <th>trade_volume_usd</th>\n",
       "      <th>marketcap_usd</th>\n",
       "    </tr>\n",
       "  </thead>\n",
       "  <tbody>\n",
       "    <tr>\n",
       "      <th>0</th>\n",
       "      <td>2021-07-18</td>\n",
       "      <td>31533.884720</td>\n",
       "      <td>32398.995186</td>\n",
       "      <td>31215.492310</td>\n",
       "      <td>31796.810138</td>\n",
       "      <td>1.878799e+10</td>\n",
       "      <td>5.965133e+11</td>\n",
       "    </tr>\n",
       "    <tr>\n",
       "      <th>1</th>\n",
       "      <td>2021-07-17</td>\n",
       "      <td>31397.308600</td>\n",
       "      <td>31935.944392</td>\n",
       "      <td>31223.990873</td>\n",
       "      <td>31533.067533</td>\n",
       "      <td>1.889502e+10</td>\n",
       "      <td>5.915365e+11</td>\n",
       "    </tr>\n",
       "    <tr>\n",
       "      <th>2</th>\n",
       "      <td>2021-07-16</td>\n",
       "      <td>31841.551324</td>\n",
       "      <td>32218.406612</td>\n",
       "      <td>31100.673372</td>\n",
       "      <td>31421.538454</td>\n",
       "      <td>2.369948e+10</td>\n",
       "      <td>5.894158e+11</td>\n",
       "    </tr>\n",
       "    <tr>\n",
       "      <th>3</th>\n",
       "      <td>2021-07-15</td>\n",
       "      <td>32827.874549</td>\n",
       "      <td>33159.640948</td>\n",
       "      <td>31175.709747</td>\n",
       "      <td>31780.731374</td>\n",
       "      <td>2.130052e+10</td>\n",
       "      <td>5.961245e+11</td>\n",
       "    </tr>\n",
       "    <tr>\n",
       "      <th>4</th>\n",
       "      <td>2021-07-14</td>\n",
       "      <td>32723.846052</td>\n",
       "      <td>33061.398956</td>\n",
       "      <td>31639.124106</td>\n",
       "      <td>32822.348737</td>\n",
       "      <td>2.137653e+10</td>\n",
       "      <td>6.156350e+11</td>\n",
       "    </tr>\n",
       "    <tr>\n",
       "      <th>5</th>\n",
       "      <td>2021-07-13</td>\n",
       "      <td>33125.468694</td>\n",
       "      <td>33327.101417</td>\n",
       "      <td>32261.420484</td>\n",
       "      <td>32702.025924</td>\n",
       "      <td>1.912086e+10</td>\n",
       "      <td>6.133437e+11</td>\n",
       "    </tr>\n",
       "    <tr>\n",
       "      <th>6</th>\n",
       "      <td>2021-07-12</td>\n",
       "      <td>34254.016595</td>\n",
       "      <td>34592.155604</td>\n",
       "      <td>32697.308651</td>\n",
       "      <td>33155.848131</td>\n",
       "      <td>2.432150e+10</td>\n",
       "      <td>6.218280e+11</td>\n",
       "    </tr>\n",
       "    <tr>\n",
       "      <th>7</th>\n",
       "      <td>2021-07-11</td>\n",
       "      <td>33509.077262</td>\n",
       "      <td>34584.704550</td>\n",
       "      <td>33346.737722</td>\n",
       "      <td>34240.187011</td>\n",
       "      <td>2.010873e+10</td>\n",
       "      <td>6.421381e+11</td>\n",
       "    </tr>\n",
       "    <tr>\n",
       "      <th>8</th>\n",
       "      <td>2021-07-10</td>\n",
       "      <td>33811.243020</td>\n",
       "      <td>34209.070197</td>\n",
       "      <td>33116.013106</td>\n",
       "      <td>33520.519953</td>\n",
       "      <td>2.297187e+10</td>\n",
       "      <td>6.286153e+11</td>\n",
       "    </tr>\n",
       "    <tr>\n",
       "      <th>9</th>\n",
       "      <td>2021-07-09</td>\n",
       "      <td>32861.671294</td>\n",
       "      <td>34042.291771</td>\n",
       "      <td>32318.880358</td>\n",
       "      <td>33798.010207</td>\n",
       "      <td>2.743602e+10</td>\n",
       "      <td>6.337841e+11</td>\n",
       "    </tr>\n",
       "  </tbody>\n",
       "</table>\n",
       "</div>"
      ],
      "text/plain": [
       "   date_time  open_price_usd  high_price_usd  low_price_usd  close_price_usd  \\\n",
       "0 2021-07-18    31533.884720    32398.995186   31215.492310     31796.810138   \n",
       "1 2021-07-17    31397.308600    31935.944392   31223.990873     31533.067533   \n",
       "2 2021-07-16    31841.551324    32218.406612   31100.673372     31421.538454   \n",
       "3 2021-07-15    32827.874549    33159.640948   31175.709747     31780.731374   \n",
       "4 2021-07-14    32723.846052    33061.398956   31639.124106     32822.348737   \n",
       "5 2021-07-13    33125.468694    33327.101417   32261.420484     32702.025924   \n",
       "6 2021-07-12    34254.016595    34592.155604   32697.308651     33155.848131   \n",
       "7 2021-07-11    33509.077262    34584.704550   33346.737722     34240.187011   \n",
       "8 2021-07-10    33811.243020    34209.070197   33116.013106     33520.519953   \n",
       "9 2021-07-09    32861.671294    34042.291771   32318.880358     33798.010207   \n",
       "\n",
       "   trade_volume_usd  marketcap_usd  \n",
       "0      1.878799e+10   5.965133e+11  \n",
       "1      1.889502e+10   5.915365e+11  \n",
       "2      2.369948e+10   5.894158e+11  \n",
       "3      2.130052e+10   5.961245e+11  \n",
       "4      2.137653e+10   6.156350e+11  \n",
       "5      1.912086e+10   6.133437e+11  \n",
       "6      2.432150e+10   6.218280e+11  \n",
       "7      2.010873e+10   6.421381e+11  \n",
       "8      2.297187e+10   6.286153e+11  \n",
       "9      2.743602e+10   6.337841e+11  "
      ]
     },
     "execution_count": 9,
     "metadata": {},
     "output_type": "execute_result"
    }
   ],
   "source": [
    "bitcoin_df_renamed.head(10)"
   ]
  },
  {
   "cell_type": "code",
   "execution_count": 10,
   "id": "f6d960a9",
   "metadata": {},
   "outputs": [],
   "source": [
    "# Adding Currency Column\n",
    "bitcoin_df_renamed.insert(0, 'currency', 'Bitcoin')\n"
   ]
  },
  {
   "cell_type": "code",
   "execution_count": 11,
   "id": "7daac7ac",
   "metadata": {},
   "outputs": [
    {
     "data": {
      "text/plain": [
       "(1238, 8)"
      ]
     },
     "execution_count": 11,
     "metadata": {},
     "output_type": "execute_result"
    }
   ],
   "source": [
    "bitcoin_df_renamed.shape"
   ]
  },
  {
   "cell_type": "code",
   "execution_count": 12,
   "id": "d2f8e2f7",
   "metadata": {},
   "outputs": [
    {
     "data": {
      "text/html": [
       "<div>\n",
       "<style scoped>\n",
       "    .dataframe tbody tr th:only-of-type {\n",
       "        vertical-align: middle;\n",
       "    }\n",
       "\n",
       "    .dataframe tbody tr th {\n",
       "        vertical-align: top;\n",
       "    }\n",
       "\n",
       "    .dataframe thead th {\n",
       "        text-align: right;\n",
       "    }\n",
       "</style>\n",
       "<table border=\"1\" class=\"dataframe\">\n",
       "  <thead>\n",
       "    <tr style=\"text-align: right;\">\n",
       "      <th></th>\n",
       "      <th>currency</th>\n",
       "      <th>date_time</th>\n",
       "      <th>open_price_usd</th>\n",
       "      <th>high_price_usd</th>\n",
       "      <th>low_price_usd</th>\n",
       "      <th>close_price_usd</th>\n",
       "      <th>trade_volume_usd</th>\n",
       "      <th>marketcap_usd</th>\n",
       "    </tr>\n",
       "  </thead>\n",
       "  <tbody>\n",
       "    <tr>\n",
       "      <th>0</th>\n",
       "      <td>Bitcoin</td>\n",
       "      <td>2021-07-18</td>\n",
       "      <td>31533.884720</td>\n",
       "      <td>32398.995186</td>\n",
       "      <td>31215.492310</td>\n",
       "      <td>31796.810138</td>\n",
       "      <td>1.878799e+10</td>\n",
       "      <td>5.965133e+11</td>\n",
       "    </tr>\n",
       "    <tr>\n",
       "      <th>1</th>\n",
       "      <td>Bitcoin</td>\n",
       "      <td>2021-07-17</td>\n",
       "      <td>31397.308600</td>\n",
       "      <td>31935.944392</td>\n",
       "      <td>31223.990873</td>\n",
       "      <td>31533.067533</td>\n",
       "      <td>1.889502e+10</td>\n",
       "      <td>5.915365e+11</td>\n",
       "    </tr>\n",
       "    <tr>\n",
       "      <th>2</th>\n",
       "      <td>Bitcoin</td>\n",
       "      <td>2021-07-16</td>\n",
       "      <td>31841.551324</td>\n",
       "      <td>32218.406612</td>\n",
       "      <td>31100.673372</td>\n",
       "      <td>31421.538454</td>\n",
       "      <td>2.369948e+10</td>\n",
       "      <td>5.894158e+11</td>\n",
       "    </tr>\n",
       "    <tr>\n",
       "      <th>3</th>\n",
       "      <td>Bitcoin</td>\n",
       "      <td>2021-07-15</td>\n",
       "      <td>32827.874549</td>\n",
       "      <td>33159.640948</td>\n",
       "      <td>31175.709747</td>\n",
       "      <td>31780.731374</td>\n",
       "      <td>2.130052e+10</td>\n",
       "      <td>5.961245e+11</td>\n",
       "    </tr>\n",
       "    <tr>\n",
       "      <th>4</th>\n",
       "      <td>Bitcoin</td>\n",
       "      <td>2021-07-14</td>\n",
       "      <td>32723.846052</td>\n",
       "      <td>33061.398956</td>\n",
       "      <td>31639.124106</td>\n",
       "      <td>32822.348737</td>\n",
       "      <td>2.137653e+10</td>\n",
       "      <td>6.156350e+11</td>\n",
       "    </tr>\n",
       "  </tbody>\n",
       "</table>\n",
       "</div>"
      ],
      "text/plain": [
       "  currency  date_time  open_price_usd  high_price_usd  low_price_usd  \\\n",
       "0  Bitcoin 2021-07-18    31533.884720    32398.995186   31215.492310   \n",
       "1  Bitcoin 2021-07-17    31397.308600    31935.944392   31223.990873   \n",
       "2  Bitcoin 2021-07-16    31841.551324    32218.406612   31100.673372   \n",
       "3  Bitcoin 2021-07-15    32827.874549    33159.640948   31175.709747   \n",
       "4  Bitcoin 2021-07-14    32723.846052    33061.398956   31639.124106   \n",
       "\n",
       "   close_price_usd  trade_volume_usd  marketcap_usd  \n",
       "0     31796.810138      1.878799e+10   5.965133e+11  \n",
       "1     31533.067533      1.889502e+10   5.915365e+11  \n",
       "2     31421.538454      2.369948e+10   5.894158e+11  \n",
       "3     31780.731374      2.130052e+10   5.961245e+11  \n",
       "4     32822.348737      2.137653e+10   6.156350e+11  "
      ]
     },
     "execution_count": 12,
     "metadata": {},
     "output_type": "execute_result"
    }
   ],
   "source": [
    "bitcoin_df_renamed.head(5)"
   ]
  },
  {
   "cell_type": "code",
   "execution_count": 13,
   "id": "ffcaf107",
   "metadata": {},
   "outputs": [
    {
     "data": {
      "text/plain": [
       "currency            0\n",
       "date_time           0\n",
       "open_price_usd      0\n",
       "high_price_usd      0\n",
       "low_price_usd       0\n",
       "close_price_usd     0\n",
       "trade_volume_usd    0\n",
       "marketcap_usd       0\n",
       "dtype: int64"
      ]
     },
     "execution_count": 13,
     "metadata": {},
     "output_type": "execute_result"
    }
   ],
   "source": [
    "# Checking Null values\n",
    "bitcoin_df_renamed.isnull().sum()\n"
   ]
  },
  {
   "cell_type": "code",
   "execution_count": 14,
   "id": "a6b53eba",
   "metadata": {},
   "outputs": [
    {
     "name": "stdout",
     "output_type": "stream",
     "text": [
      "There are 1238 unique values in 'date_time'\n"
     ]
    }
   ],
   "source": [
    "# Checking for duplicate dates. The rest of the columns can naturally have duplicates\n",
    "unique_values_num = bitcoin_df_renamed['date_time'].nunique()\n",
    "print(\"There are {} unique values in '{}'\".format(unique_values_num,'date_time'))\n",
    "\n",
    "# No duplicate dates\n"
   ]
  },
  {
   "cell_type": "code",
   "execution_count": 15,
   "id": "0b28a4ba",
   "metadata": {},
   "outputs": [
    {
     "data": {
      "text/plain": [
       "(1238, 8)"
      ]
     },
     "execution_count": 15,
     "metadata": {},
     "output_type": "execute_result"
    }
   ],
   "source": [
    "# Subsetting dataframe further, to remove rows where \n",
    "# high_price_usd, low_price_usd, open_price_usd, close_price_usd, trade_volume_usd and marketcap_usd are ZERO.\n",
    "\n",
    "bitcoin_df_subset_high = bitcoin_df_renamed[(bitcoin_df_renamed['high_price_usd'] != 0)]\n",
    "bitcoin_df_subset_high.shape\n"
   ]
  },
  {
   "cell_type": "code",
   "execution_count": 16,
   "id": "6ba437d1",
   "metadata": {},
   "outputs": [
    {
     "data": {
      "text/plain": [
       "(1238, 8)"
      ]
     },
     "execution_count": 16,
     "metadata": {},
     "output_type": "execute_result"
    }
   ],
   "source": [
    "bitcoin_df_subset_low = bitcoin_df_renamed[(bitcoin_df_renamed['low_price_usd'] != 0)]\n",
    "bitcoin_df_subset_low.shape"
   ]
  },
  {
   "cell_type": "markdown",
   "id": "bffa14e9",
   "metadata": {},
   "source": []
  },
  {
   "cell_type": "code",
   "execution_count": 17,
   "id": "4aa1b0b6",
   "metadata": {},
   "outputs": [
    {
     "data": {
      "text/plain": [
       "(1238, 8)"
      ]
     },
     "execution_count": 17,
     "metadata": {},
     "output_type": "execute_result"
    }
   ],
   "source": [
    "bitcoin_df_subset_open = bitcoin_df_renamed[(bitcoin_df_renamed['open_price_usd'] != 0)]\n",
    "bitcoin_df_subset_open.shape"
   ]
  },
  {
   "cell_type": "code",
   "execution_count": 18,
   "id": "4c24ec03",
   "metadata": {},
   "outputs": [
    {
     "data": {
      "text/plain": [
       "(1238, 8)"
      ]
     },
     "execution_count": 18,
     "metadata": {},
     "output_type": "execute_result"
    }
   ],
   "source": [
    "bitcoin_df_subset_trade = bitcoin_df_renamed[(bitcoin_df_renamed['trade_volume_usd'] != 0)]\n",
    "bitcoin_df_subset_trade.shape"
   ]
  },
  {
   "cell_type": "code",
   "execution_count": 19,
   "id": "c9d2ef6a",
   "metadata": {},
   "outputs": [
    {
     "data": {
      "text/plain": [
       "(1238, 8)"
      ]
     },
     "execution_count": 19,
     "metadata": {},
     "output_type": "execute_result"
    }
   ],
   "source": [
    "bitcoin_df_subset_market = bitcoin_df_renamed[(bitcoin_df_renamed['marketcap_usd'] != 0)]\n",
    "bitcoin_df_subset_market.shape\n"
   ]
  },
  {
   "cell_type": "code",
   "execution_count": 20,
   "id": "1222d0c2",
   "metadata": {},
   "outputs": [],
   "source": [
    "# Since the shape of the data frame was maintained, we can say that there are no duplicates from the scrape"
   ]
  },
  {
   "cell_type": "code",
   "execution_count": 21,
   "id": "605fd38b",
   "metadata": {},
   "outputs": [
    {
     "data": {
      "text/plain": [
       "Text(0.5, 1.0, 'Scatter Plot between High price vs Low price to see extreme variations')"
      ]
     },
     "execution_count": 21,
     "metadata": {},
     "output_type": "execute_result"
    },
    {
     "data": {
      "image/png": "[encoded data removed]",
      "text/plain": [
       "<Figure size 432x288 with 1 Axes>"
      ]
     },
     "metadata": {
      "needs_background": "light"
     },
     "output_type": "display_data"
    }
   ],
   "source": [
    "# Checking for outliers and data quality on high_price_usd, low_price_usd, open_price_usd, close_price_usd, trade_volume_usd, and marketcap_usd\n",
    "# Scatter plots\n",
    "import matplotlib.pyplot as plt\n",
    "\n",
    "plt.scatter((bitcoin_df_renamed['high_price_usd']), bitcoin_df_renamed['low_price_usd'], c='purple')\n",
    "plt.xlabel(\"High Price Per the Day\")\n",
    "plt.ylabel(\"Low Price Per the Day\")\n",
    "plt.grid()\n",
    "plt.title(\"Scatter Plot between High price vs Low price to see extreme variations\")\n",
    "\n",
    "# There are no extreme variations in price between high and low. Meaning, there are no outliers in high price and low price for the timeline"
   ]
  },
  {
   "cell_type": "code",
   "execution_count": 22,
   "id": "daa9048b",
   "metadata": {},
   "outputs": [
    {
     "data": {
      "text/plain": [
       "Text(0.5, 1.0, 'Scatter Plot between Open price vs Close price to see extreme variations')"
      ]
     },
     "execution_count": 22,
     "metadata": {},
     "output_type": "execute_result"
    },
    {
     "data": {
      "image/png": "[encoded data removed]",
      "text/plain": [
       "<Figure size 432x288 with 1 Axes>"
      ]
     },
     "metadata": {
      "needs_background": "light"
     },
     "output_type": "display_data"
    }
   ],
   "source": [
    "\n",
    "plt.scatter((bitcoin_df_renamed['open_price_usd']), bitcoin_df_renamed['close_price_usd'], c='green')\n",
    "plt.xlabel(\"Open Price Per the Day\")\n",
    "plt.ylabel(\"Close Price Per the Day\")\n",
    "plt.grid()\n",
    "plt.title(\"Scatter Plot between Open price vs Close price to see extreme variations\")\n",
    "\n",
    "# There are no extreme variations in price between open and close"
   ]
  },
  {
   "cell_type": "code",
   "execution_count": 23,
   "id": "3ad42abb",
   "metadata": {},
   "outputs": [
    {
     "data": {
      "text/plain": [
       "{'whiskers': [<matplotlib.lines.Line2D at 0x27fdc673be0>,\n",
       "  <matplotlib.lines.Line2D at 0x27fdc3054f0>],\n",
       " 'caps': [<matplotlib.lines.Line2D at 0x27fda1111f0>,\n",
       "  <matplotlib.lines.Line2D at 0x27fdd312370>],\n",
       " 'boxes': [<matplotlib.lines.Line2D at 0x27fdd3d7eb0>],\n",
       " 'medians': [<matplotlib.lines.Line2D at 0x27fdd3cc7f0>],\n",
       " 'fliers': [<matplotlib.lines.Line2D at 0x27fdd3cca90>],\n",
       " 'means': []}"
      ]
     },
     "execution_count": 23,
     "metadata": {},
     "output_type": "execute_result"
    },
    {
     "data": {
      "image/png": "[encoded data removed]",
      "text/plain": [
       "<Figure size 432x288 with 1 Axes>"
      ]
     },
     "metadata": {
      "needs_background": "light"
     },
     "output_type": "display_data"
    }
   ],
   "source": [
    "plt.boxplot(bitcoin_df_renamed.trade_volume_usd, notch=True)\n",
    "# The boxplot shows one outlier for trade_volume at 3.5 some value. So, we will remove this value in our new subset."
   ]
  },
  {
   "cell_type": "code",
   "execution_count": 24,
   "id": "8e2c0b00",
   "metadata": {},
   "outputs": [
    {
     "data": {
      "text/html": [
       "<div>\n",
       "<style scoped>\n",
       "    .dataframe tbody tr th:only-of-type {\n",
       "        vertical-align: middle;\n",
       "    }\n",
       "\n",
       "    .dataframe tbody tr th {\n",
       "        vertical-align: top;\n",
       "    }\n",
       "\n",
       "    .dataframe thead th {\n",
       "        text-align: right;\n",
       "    }\n",
       "</style>\n",
       "<table border=\"1\" class=\"dataframe\">\n",
       "  <thead>\n",
       "    <tr style=\"text-align: right;\">\n",
       "      <th></th>\n",
       "      <th>open_price_usd</th>\n",
       "      <th>high_price_usd</th>\n",
       "      <th>low_price_usd</th>\n",
       "      <th>close_price_usd</th>\n",
       "      <th>trade_volume_usd</th>\n",
       "      <th>marketcap_usd</th>\n",
       "    </tr>\n",
       "  </thead>\n",
       "  <tbody>\n",
       "    <tr>\n",
       "      <th>count</th>\n",
       "      <td>1238.000000</td>\n",
       "      <td>1238.000000</td>\n",
       "      <td>1238.000000</td>\n",
       "      <td>1238.000000</td>\n",
       "      <td>1.238000e+03</td>\n",
       "      <td>1.238000e+03</td>\n",
       "    </tr>\n",
       "    <tr>\n",
       "      <th>mean</th>\n",
       "      <td>14354.200336</td>\n",
       "      <td>14742.701910</td>\n",
       "      <td>13918.516614</td>\n",
       "      <td>14371.043560</td>\n",
       "      <td>2.531392e+10</td>\n",
       "      <td>2.631638e+11</td>\n",
       "    </tr>\n",
       "    <tr>\n",
       "      <th>std</th>\n",
       "      <td>14314.090227</td>\n",
       "      <td>14779.464950</td>\n",
       "      <td>13751.905126</td>\n",
       "      <td>14321.449665</td>\n",
       "      <td>2.239171e+10</td>\n",
       "      <td>2.697295e+11</td>\n",
       "    </tr>\n",
       "    <tr>\n",
       "      <th>min</th>\n",
       "      <td>3236.274773</td>\n",
       "      <td>3275.377827</td>\n",
       "      <td>3191.303562</td>\n",
       "      <td>3236.761645</td>\n",
       "      <td>2.923670e+09</td>\n",
       "      <td>5.640069e+10</td>\n",
       "    </tr>\n",
       "    <tr>\n",
       "      <th>25%</th>\n",
       "      <td>6706.277500</td>\n",
       "      <td>6811.844956</td>\n",
       "      <td>6572.277500</td>\n",
       "      <td>6708.102500</td>\n",
       "      <td>6.880828e+09</td>\n",
       "      <td>1.158215e+11</td>\n",
       "    </tr>\n",
       "    <tr>\n",
       "      <th>50%</th>\n",
       "      <td>8908.896044</td>\n",
       "      <td>9152.118764</td>\n",
       "      <td>8742.171939</td>\n",
       "      <td>8902.201636</td>\n",
       "      <td>2.014199e+10</td>\n",
       "      <td>1.589723e+11</td>\n",
       "    </tr>\n",
       "    <tr>\n",
       "      <th>75%</th>\n",
       "      <td>11538.890842</td>\n",
       "      <td>11798.418782</td>\n",
       "      <td>11295.443596</td>\n",
       "      <td>11568.815575</td>\n",
       "      <td>3.616024e+10</td>\n",
       "      <td>2.124905e+11</td>\n",
       "    </tr>\n",
       "    <tr>\n",
       "      <th>max</th>\n",
       "      <td>63523.754869</td>\n",
       "      <td>64863.098908</td>\n",
       "      <td>62208.964366</td>\n",
       "      <td>63503.457930</td>\n",
       "      <td>3.509679e+11</td>\n",
       "      <td>1.186364e+12</td>\n",
       "    </tr>\n",
       "  </tbody>\n",
       "</table>\n",
       "</div>"
      ],
      "text/plain": [
       "       open_price_usd  high_price_usd  low_price_usd  close_price_usd  \\\n",
       "count     1238.000000     1238.000000    1238.000000      1238.000000   \n",
       "mean     14354.200336    14742.701910   13918.516614     14371.043560   \n",
       "std      14314.090227    14779.464950   13751.905126     14321.449665   \n",
       "min       3236.274773     3275.377827    3191.303562      3236.761645   \n",
       "25%       6706.277500     6811.844956    6572.277500      6708.102500   \n",
       "50%       8908.896044     9152.118764    8742.171939      8902.201636   \n",
       "75%      11538.890842    11798.418782   11295.443596     11568.815575   \n",
       "max      63523.754869    64863.098908   62208.964366     63503.457930   \n",
       "\n",
       "       trade_volume_usd  marketcap_usd  \n",
       "count      1.238000e+03   1.238000e+03  \n",
       "mean       2.531392e+10   2.631638e+11  \n",
       "std        2.239171e+10   2.697295e+11  \n",
       "min        2.923670e+09   5.640069e+10  \n",
       "25%        6.880828e+09   1.158215e+11  \n",
       "50%        2.014199e+10   1.589723e+11  \n",
       "75%        3.616024e+10   2.124905e+11  \n",
       "max        3.509679e+11   1.186364e+12  "
      ]
     },
     "execution_count": 24,
     "metadata": {},
     "output_type": "execute_result"
    }
   ],
   "source": [
    "bitcoin_df_renamed.describe()\n",
    "\n",
    "\n"
   ]
  },
  {
   "cell_type": "code",
   "execution_count": 25,
   "id": "faeb8844",
   "metadata": {},
   "outputs": [
    {
     "data": {
      "text/plain": [
       "(1237, 8)"
      ]
     },
     "execution_count": 25,
     "metadata": {},
     "output_type": "execute_result"
    }
   ],
   "source": [
    "bitcoin_df_web_final = bitcoin_df_renamed[(bitcoin_df_renamed['trade_volume_usd'] < 3.509679e+11)] # got this value from max in descriptive statistics\n",
    "bitcoin_df_web_final.shape # The one value has been removed"
   ]
  },
  {
   "cell_type": "code",
   "execution_count": 26,
   "id": "6670987c",
   "metadata": {},
   "outputs": [
    {
     "data": {
      "text/plain": [
       "{'whiskers': [<matplotlib.lines.Line2D at 0x27fdd474af0>,\n",
       "  <matplotlib.lines.Line2D at 0x27fdd474e50>],\n",
       " 'caps': [<matplotlib.lines.Line2D at 0x27fdd4831f0>,\n",
       "  <matplotlib.lines.Line2D at 0x27fdd483550>],\n",
       " 'boxes': [<matplotlib.lines.Line2D at 0x27fdd474790>],\n",
       " 'medians': [<matplotlib.lines.Line2D at 0x27fdd4838b0>],\n",
       " 'fliers': [<matplotlib.lines.Line2D at 0x27fdd483c10>],\n",
       " 'means': []}"
      ]
     },
     "execution_count": 26,
     "metadata": {},
     "output_type": "execute_result"
    },
    {
     "data": {
      "image/png": "[encoded data removed]",
      "text/plain": [
       "<Figure size 432x288 with 1 Axes>"
      ]
     },
     "metadata": {
      "needs_background": "light"
     },
     "output_type": "display_data"
    }
   ],
   "source": [
    "plt.boxplot(bitcoin_df_web_final.marketcap_usd, notch=True)\n",
    "# Not outliers in market cap"
   ]
  },
  {
   "cell_type": "code",
   "execution_count": 27,
   "id": "7e7eeda2",
   "metadata": {},
   "outputs": [
    {
     "data": {
      "text/plain": [
       "(1237, 8)"
      ]
     },
     "execution_count": 27,
     "metadata": {},
     "output_type": "execute_result"
    }
   ],
   "source": [
    "# Final Web Data: \n",
    "bitcoin_df_web_final.shape"
   ]
  },
  {
   "cell_type": "markdown",
   "id": "1488345a",
   "metadata": {},
   "source": []
  },
  {
   "cell_type": "code",
   "execution_count": 28,
   "id": "a20c2467",
   "metadata": {},
   "outputs": [],
   "source": [
    "bitcoin_df_web_final.to_csv(\"web_milestone3_bitcoin.csv\", index=False)"
   ]
  }
 ],
 "metadata": {
  "kernelspec": {
   "display_name": "Python 3 (ipykernel)",
   "language": "python",
   "name": "python3"
  },
  "language_info": {
   "codemirror_mode": {
    "name": "ipython",
    "version": 3
   },
   "file_extension": ".py",
   "mimetype": "text/x-python",
   "name": "python",
   "nbconvert_exporter": "python",
   "pygments_lexer": "ipython3",
   "version": "3.8.13"
  }
 },
 "nbformat": 4,
 "nbformat_minor": 5
}
