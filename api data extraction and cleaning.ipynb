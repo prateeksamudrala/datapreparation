{
 "cells": [
  {
   "cell_type": "markdown",
   "id": "02050f0f",
   "metadata": {},
   "source": [
    "# Bitcoin API data extraction and cleaning\n",
    "\n",
    "## Jyothi Samudrala\n",
    "\n",
    "API Source: https://lunarcrush.com/developers/docs#\n",
    "\n",
    "Data Description:\n",
    "\n",
    "1. sentiment: A detection of positive or negative sentiment based on the page content\n",
    "2. social_score: Sum of followers, retweets, likes, reddit karma etc of social posts collected\n",
    "3. time: Date of observation\n",
    "4. symbol: BTC (Crypto symbol)\n",
    "\n",
    "## Summary of transformations/checks\n",
    "\n",
    "1. Renamed columns accordingly\n",
    "2. Fixed casing\n",
    "3. Chose a subset of data from api based on relevancy and requirement.\n",
    "4. Changed the time format from unix timestamp to human readable\n",
    "5. Checked for duplicates and null values, and removed null values. Will keep duplicate dates for now and evaluate when merging.\n",
    "6. Checked for outliers using boxplots, and removed 2 outliers in social_score. Not removing outliers in sentiment as the lowest value is 1, and it seems a reasonable sentiment\n",
    "7. Checked for user errors; made sure transformations/checks did not delete data without intent.\n",
    "\n",
    "Final API Dataset contains 8087 rows and 3 columns"
   ]
  },
  {
   "cell_type": "code",
   "execution_count": 1,
   "id": "0fc4a473",
   "metadata": {},
   "outputs": [],
   "source": [
    "import json\n",
    "import requests\n",
    "\n",
    "# Storing API Key\n",
    "with open('lunar.json') as file:\n",
    "    key = json.load(file)\n",
    "    value = key['apikey']\n",
    "\n",
    "# Unix Time Stamp for April 29 2013 is 1367218800\n",
    "# For August 2nd 2021 is 1627961761\n",
    "\n",
    "serviceurl = \"https://api.lunarcrush.com/v2\"\n",
    "payload = {'data': 'feeds', 'key': value, 'start': 1367218800, 'end':1627961761, 'limit':10000, 'symbol': 'BTC'}\n",
    "response = requests.get(serviceurl, params=payload)\n",
    "# serviceurl = \"https://api.lunarcrush.com/v2?data=feeds&key=9xld4y1byjitrtnxz5ut8&start=1367218800&end=1627961761&limit=10000&symbol=BTC\"\n",
    "\n",
    "# Storing the response from the API in json_data\n",
    "json_data=response.json()\n",
    "\n",
    "\n",
    "\n"
   ]
  },
  {
   "cell_type": "code",
   "execution_count": 2,
   "id": "e1ee11a9",
   "metadata": {},
   "outputs": [],
   "source": [
    "# Function to Extract Nested JSON\n",
    "\"\"\"Extract nested values from a JSON tree.\"\"\"\n",
    "def json_extract(obj, key):\n",
    "    \"\"\"Recursively fetch values from nested JSON.\"\"\"\n",
    "    arr = []\n",
    "\n",
    "    def extract(obj, arr, key):\n",
    "        \"\"\"Recursively search for values of key in JSON tree.\"\"\"\n",
    "        if isinstance(obj, dict):\n",
    "            for k, v in obj.items():\n",
    "                if isinstance(v, (dict, list)):\n",
    "                    extract(v, arr, key)\n",
    "                elif k == key:\n",
    "                    arr.append(v)\n",
    "        elif isinstance(obj, list):\n",
    "            for item in obj:\n",
    "                extract(item, arr, key)\n",
    "        return arr\n",
    "\n",
    "    values = extract(obj, arr, key)\n",
    "    return values"
   ]
  },
  {
   "cell_type": "code",
   "execution_count": 3,
   "id": "cb8b143e",
   "metadata": {},
   "outputs": [],
   "source": [
    "# Creating a dict from key values that are extracted\n",
    "\n",
    "# renaming, fixing casing, choosing a subset\n",
    "\n",
    "\n",
    "sentiment = json_extract(json_data, 'sentiment')\n",
    "time = json_extract(json_data, 'time')\n",
    "social_score = json_extract(json_data, 'social_score')\n",
    "symbol = json_extract(json_data, 'symbol')\n",
    "\n",
    "dict ={'time': time, 'sentiment': sentiment, 'social_score': social_score, 'symbol': symbol}\n"
   ]
  },
  {
   "cell_type": "code",
   "execution_count": 4,
   "id": "1974ca01",
   "metadata": {},
   "outputs": [
    {
     "data": {
      "text/html": [
       "<div>\n",
       "<style scoped>\n",
       "    .dataframe tbody tr th:only-of-type {\n",
       "        vertical-align: middle;\n",
       "    }\n",
       "\n",
       "    .dataframe tbody tr th {\n",
       "        vertical-align: top;\n",
       "    }\n",
       "\n",
       "    .dataframe thead th {\n",
       "        text-align: right;\n",
       "    }\n",
       "</style>\n",
       "<table border=\"1\" class=\"dataframe\">\n",
       "  <thead>\n",
       "    <tr style=\"text-align: right;\">\n",
       "      <th></th>\n",
       "      <th>time</th>\n",
       "      <th>sentiment</th>\n",
       "      <th>social_score</th>\n",
       "      <th>symbol</th>\n",
       "    </tr>\n",
       "  </thead>\n",
       "  <tbody>\n",
       "    <tr>\n",
       "      <th>0</th>\n",
       "      <td>2021-02-20</td>\n",
       "      <td>4.0</td>\n",
       "      <td>1548094.0</td>\n",
       "      <td>'BTC'</td>\n",
       "    </tr>\n",
       "    <tr>\n",
       "      <th>1</th>\n",
       "      <td>2021-03-24</td>\n",
       "      <td>4.0</td>\n",
       "      <td>1077476.0</td>\n",
       "      <td>BTC</td>\n",
       "    </tr>\n",
       "    <tr>\n",
       "      <th>2</th>\n",
       "      <td>2021-05-12</td>\n",
       "      <td>3.0</td>\n",
       "      <td>746648.0</td>\n",
       "      <td>BTC</td>\n",
       "    </tr>\n",
       "    <tr>\n",
       "      <th>3</th>\n",
       "      <td>2020-03-20</td>\n",
       "      <td>4.0</td>\n",
       "      <td>540086.0</td>\n",
       "      <td>BTC</td>\n",
       "    </tr>\n",
       "    <tr>\n",
       "      <th>4</th>\n",
       "      <td>2021-05-24</td>\n",
       "      <td>3.0</td>\n",
       "      <td>403736.0</td>\n",
       "      <td>BTC</td>\n",
       "    </tr>\n",
       "    <tr>\n",
       "      <th>5</th>\n",
       "      <td>2021-01-21</td>\n",
       "      <td>3.0</td>\n",
       "      <td>327435.0</td>\n",
       "      <td>BTC</td>\n",
       "    </tr>\n",
       "    <tr>\n",
       "      <th>6</th>\n",
       "      <td>2021-05-20</td>\n",
       "      <td>4.0</td>\n",
       "      <td>310832.0</td>\n",
       "      <td>BTC</td>\n",
       "    </tr>\n",
       "    <tr>\n",
       "      <th>7</th>\n",
       "      <td>2021-06-04</td>\n",
       "      <td>4.0</td>\n",
       "      <td>290790.0</td>\n",
       "      <td>BTC</td>\n",
       "    </tr>\n",
       "    <tr>\n",
       "      <th>8</th>\n",
       "      <td>2020-12-17</td>\n",
       "      <td>4.0</td>\n",
       "      <td>277769.0</td>\n",
       "      <td>BTC</td>\n",
       "    </tr>\n",
       "    <tr>\n",
       "      <th>9</th>\n",
       "      <td>2021-03-12</td>\n",
       "      <td>3.0</td>\n",
       "      <td>277371.0</td>\n",
       "      <td>BTC</td>\n",
       "    </tr>\n",
       "  </tbody>\n",
       "</table>\n",
       "</div>"
      ],
      "text/plain": [
       "        time  sentiment  social_score symbol\n",
       "0 2021-02-20        4.0     1548094.0  'BTC'\n",
       "1 2021-03-24        4.0     1077476.0    BTC\n",
       "2 2021-05-12        3.0      746648.0    BTC\n",
       "3 2020-03-20        4.0      540086.0    BTC\n",
       "4 2021-05-24        3.0      403736.0    BTC\n",
       "5 2021-01-21        3.0      327435.0    BTC\n",
       "6 2021-05-20        4.0      310832.0    BTC\n",
       "7 2021-06-04        4.0      290790.0    BTC\n",
       "8 2020-12-17        4.0      277769.0    BTC\n",
       "9 2021-03-12        3.0      277371.0    BTC"
      ]
     },
     "execution_count": 4,
     "metadata": {},
     "output_type": "execute_result"
    }
   ],
   "source": [
    "# Creating a Dataframe with data extracted from the API\n",
    "\n",
    "import pandas as pd\n",
    "sentiment_series = pd.Series(sentiment, name='sentiment')\n",
    "time_series = pd.Series(time, name='time')\n",
    "social_score = pd.Series(social_score, name='social_score')\n",
    "symbol_series = pd.Series(symbol, name='symbol')\n",
    "df_new = pd.concat([time_series,sentiment_series,social_score, symbol_series], axis=1)\n",
    "\n",
    "# Converting time to desired format\n",
    "\n",
    "from datetime import datetime\n",
    "df_new['time']=pd.to_datetime(df_new['time'], unit='s')\n",
    "df_new['time'] = pd.to_datetime(df_new['time']).dt.normalize()\n",
    "df_new.head(10)"
   ]
  },
  {
   "cell_type": "code",
   "execution_count": 5,
   "id": "29586c96",
   "metadata": {},
   "outputs": [
    {
     "data": {
      "text/plain": [
       "(8362, 4)"
      ]
     },
     "execution_count": 5,
     "metadata": {},
     "output_type": "execute_result"
    }
   ],
   "source": [
    "# Checking the shape of the dataframe\n",
    "df_new.shape\n",
    "# 8362 rows and 4 columns"
   ]
  },
  {
   "cell_type": "code",
   "execution_count": 6,
   "id": "d6508208",
   "metadata": {},
   "outputs": [
    {
     "data": {
      "text/plain": [
       "time              1\n",
       "sentiment       273\n",
       "social_score      1\n",
       "symbol            0\n",
       "dtype: int64"
      ]
     },
     "execution_count": 6,
     "metadata": {},
     "output_type": "execute_result"
    }
   ],
   "source": [
    "# Checking for null values\n",
    "df_new.isnull().sum()"
   ]
  },
  {
   "cell_type": "markdown",
   "id": "02f6c9f6",
   "metadata": {},
   "source": []
  },
  {
   "cell_type": "code",
   "execution_count": 7,
   "id": "82459099",
   "metadata": {},
   "outputs": [
    {
     "data": {
      "text/plain": [
       "(8089, 4)"
      ]
     },
     "execution_count": 7,
     "metadata": {},
     "output_type": "execute_result"
    }
   ],
   "source": [
    "# Since there are very few missing values, I will drop rows with missing values\n",
    "df_new1 = df_new.dropna()\n",
    "df_new1.shape\n",
    "# 8089 rows and 4 columns"
   ]
  },
  {
   "cell_type": "code",
   "execution_count": 9,
   "id": "8a796df5",
   "metadata": {},
   "outputs": [
    {
     "name": "stdout",
     "output_type": "stream",
     "text": [
      "There are 567 unique values in 'time'\n",
      "There are 2 unique values in 'symbol'\n"
     ]
    }
   ],
   "source": [
    "# Checking for duplicate dates. \n",
    "unique_values_num_dates = df_new1['time'].nunique()\n",
    "print(\"There are {} unique values in '{}'\".format(unique_values_num_dates,'time'))\n",
    "\n",
    "unique_values_num_btc = df_new1['symbol'].nunique()\n",
    "print(\"There are {} unique values in '{}'\".format(unique_values_num_btc,'symbol'))\n",
    "\n",
    "# Despite giving a large time range (mentioned below), \n",
    "# the API has a limitation and it is NOT allowing for more than 566 unique date values\n",
    "\n",
    "# Unix Time Stamp for April 29 2013 is 1367218800\n",
    "# For August 1st 2021 is 1627886339\n",
    "\n",
    "# Also, there is one inaccurately formatted BTC symbol name - this is not a problem as symbol column will be removed anyway.\n",
    "\n",
    "# The rest of the columns are expected to have duplicates\n"
   ]
  },
  {
   "cell_type": "code",
   "execution_count": 11,
   "id": "73880207",
   "metadata": {},
   "outputs": [],
   "source": [
    "# Removing symbol column\n",
    "df_new2 = df_new1[['time','sentiment','social_score']]\n"
   ]
  },
  {
   "cell_type": "code",
   "execution_count": 12,
   "id": "4347619f",
   "metadata": {},
   "outputs": [
    {
     "data": {
      "text/html": [
       "<div>\n",
       "<style scoped>\n",
       "    .dataframe tbody tr th:only-of-type {\n",
       "        vertical-align: middle;\n",
       "    }\n",
       "\n",
       "    .dataframe tbody tr th {\n",
       "        vertical-align: top;\n",
       "    }\n",
       "\n",
       "    .dataframe thead th {\n",
       "        text-align: right;\n",
       "    }\n",
       "</style>\n",
       "<table border=\"1\" class=\"dataframe\">\n",
       "  <thead>\n",
       "    <tr style=\"text-align: right;\">\n",
       "      <th></th>\n",
       "      <th>time</th>\n",
       "      <th>sentiment</th>\n",
       "      <th>social_score</th>\n",
       "    </tr>\n",
       "  </thead>\n",
       "  <tbody>\n",
       "    <tr>\n",
       "      <th>0</th>\n",
       "      <td>2021-02-20</td>\n",
       "      <td>4.0</td>\n",
       "      <td>1548094.0</td>\n",
       "    </tr>\n",
       "    <tr>\n",
       "      <th>1</th>\n",
       "      <td>2021-03-24</td>\n",
       "      <td>4.0</td>\n",
       "      <td>1077476.0</td>\n",
       "    </tr>\n",
       "    <tr>\n",
       "      <th>2</th>\n",
       "      <td>2021-05-12</td>\n",
       "      <td>3.0</td>\n",
       "      <td>746648.0</td>\n",
       "    </tr>\n",
       "    <tr>\n",
       "      <th>3</th>\n",
       "      <td>2020-03-20</td>\n",
       "      <td>4.0</td>\n",
       "      <td>540086.0</td>\n",
       "    </tr>\n",
       "    <tr>\n",
       "      <th>4</th>\n",
       "      <td>2021-05-24</td>\n",
       "      <td>3.0</td>\n",
       "      <td>403736.0</td>\n",
       "    </tr>\n",
       "    <tr>\n",
       "      <th>5</th>\n",
       "      <td>2021-01-21</td>\n",
       "      <td>3.0</td>\n",
       "      <td>327435.0</td>\n",
       "    </tr>\n",
       "    <tr>\n",
       "      <th>6</th>\n",
       "      <td>2021-05-20</td>\n",
       "      <td>4.0</td>\n",
       "      <td>310832.0</td>\n",
       "    </tr>\n",
       "    <tr>\n",
       "      <th>7</th>\n",
       "      <td>2021-06-04</td>\n",
       "      <td>4.0</td>\n",
       "      <td>290790.0</td>\n",
       "    </tr>\n",
       "    <tr>\n",
       "      <th>8</th>\n",
       "      <td>2020-12-17</td>\n",
       "      <td>4.0</td>\n",
       "      <td>277769.0</td>\n",
       "    </tr>\n",
       "    <tr>\n",
       "      <th>9</th>\n",
       "      <td>2021-03-12</td>\n",
       "      <td>3.0</td>\n",
       "      <td>277371.0</td>\n",
       "    </tr>\n",
       "  </tbody>\n",
       "</table>\n",
       "</div>"
      ],
      "text/plain": [
       "        time  sentiment  social_score\n",
       "0 2021-02-20        4.0     1548094.0\n",
       "1 2021-03-24        4.0     1077476.0\n",
       "2 2021-05-12        3.0      746648.0\n",
       "3 2020-03-20        4.0      540086.0\n",
       "4 2021-05-24        3.0      403736.0\n",
       "5 2021-01-21        3.0      327435.0\n",
       "6 2021-05-20        4.0      310832.0\n",
       "7 2021-06-04        4.0      290790.0\n",
       "8 2020-12-17        4.0      277769.0\n",
       "9 2021-03-12        3.0      277371.0"
      ]
     },
     "execution_count": 12,
     "metadata": {},
     "output_type": "execute_result"
    }
   ],
   "source": [
    "df_new2.head(10)"
   ]
  },
  {
   "cell_type": "code",
   "execution_count": 13,
   "id": "f44d1dbe",
   "metadata": {},
   "outputs": [
    {
     "data": {
      "text/plain": [
       "(8089, 3)"
      ]
     },
     "execution_count": 13,
     "metadata": {},
     "output_type": "execute_result"
    }
   ],
   "source": [
    "df_new3 = df_new2[(df_new2['sentiment'] != 0)]\n",
    "df_new3.shape"
   ]
  },
  {
   "cell_type": "code",
   "execution_count": 14,
   "id": "d55a435d",
   "metadata": {},
   "outputs": [
    {
     "data": {
      "text/plain": [
       "(8089, 3)"
      ]
     },
     "execution_count": 14,
     "metadata": {},
     "output_type": "execute_result"
    }
   ],
   "source": [
    "df_new3 =  df_new2[(df_new2['social_score'] != 0)]\n",
    "df_new3.shape\n",
    "\n",
    "# Fortunately, there are no zero values in sentiment or social score."
   ]
  },
  {
   "cell_type": "code",
   "execution_count": 15,
   "id": "fa8f6d4d",
   "metadata": {},
   "outputs": [
    {
     "data": {
      "text/html": [
       "<div>\n",
       "<style scoped>\n",
       "    .dataframe tbody tr th:only-of-type {\n",
       "        vertical-align: middle;\n",
       "    }\n",
       "\n",
       "    .dataframe tbody tr th {\n",
       "        vertical-align: top;\n",
       "    }\n",
       "\n",
       "    .dataframe thead th {\n",
       "        text-align: right;\n",
       "    }\n",
       "</style>\n",
       "<table border=\"1\" class=\"dataframe\">\n",
       "  <thead>\n",
       "    <tr style=\"text-align: right;\">\n",
       "      <th></th>\n",
       "      <th>sentiment</th>\n",
       "      <th>social_score</th>\n",
       "    </tr>\n",
       "  </thead>\n",
       "  <tbody>\n",
       "    <tr>\n",
       "      <th>count</th>\n",
       "      <td>8089.000000</td>\n",
       "      <td>8.089000e+03</td>\n",
       "    </tr>\n",
       "    <tr>\n",
       "      <th>mean</th>\n",
       "      <td>3.593522</td>\n",
       "      <td>9.761581e+03</td>\n",
       "    </tr>\n",
       "    <tr>\n",
       "      <th>std</th>\n",
       "      <td>0.844741</td>\n",
       "      <td>2.731911e+04</td>\n",
       "    </tr>\n",
       "    <tr>\n",
       "      <th>min</th>\n",
       "      <td>1.000000</td>\n",
       "      <td>3.974000e+03</td>\n",
       "    </tr>\n",
       "    <tr>\n",
       "      <th>25%</th>\n",
       "      <td>3.000000</td>\n",
       "      <td>4.771000e+03</td>\n",
       "    </tr>\n",
       "    <tr>\n",
       "      <th>50%</th>\n",
       "      <td>4.000000</td>\n",
       "      <td>6.079000e+03</td>\n",
       "    </tr>\n",
       "    <tr>\n",
       "      <th>75%</th>\n",
       "      <td>4.000000</td>\n",
       "      <td>9.050000e+03</td>\n",
       "    </tr>\n",
       "    <tr>\n",
       "      <th>max</th>\n",
       "      <td>5.000000</td>\n",
       "      <td>1.548094e+06</td>\n",
       "    </tr>\n",
       "  </tbody>\n",
       "</table>\n",
       "</div>"
      ],
      "text/plain": [
       "         sentiment  social_score\n",
       "count  8089.000000  8.089000e+03\n",
       "mean      3.593522  9.761581e+03\n",
       "std       0.844741  2.731911e+04\n",
       "min       1.000000  3.974000e+03\n",
       "25%       3.000000  4.771000e+03\n",
       "50%       4.000000  6.079000e+03\n",
       "75%       4.000000  9.050000e+03\n",
       "max       5.000000  1.548094e+06"
      ]
     },
     "execution_count": 15,
     "metadata": {},
     "output_type": "execute_result"
    }
   ],
   "source": [
    "df_new3.describe()"
   ]
  },
  {
   "cell_type": "code",
   "execution_count": 16,
   "id": "e9f2b1ad",
   "metadata": {},
   "outputs": [
    {
     "data": {
      "text/plain": [
       "{'whiskers': [<matplotlib.lines.Line2D at 0x1aaa62de3a0>,\n",
       "  <matplotlib.lines.Line2D at 0x1aaa62de700>],\n",
       " 'caps': [<matplotlib.lines.Line2D at 0x1aaa62dea60>,\n",
       "  <matplotlib.lines.Line2D at 0x1aaa62dedc0>],\n",
       " 'boxes': [<matplotlib.lines.Line2D at 0x1aaa62de040>],\n",
       " 'medians': [<matplotlib.lines.Line2D at 0x1aaa62ed160>],\n",
       " 'fliers': [<matplotlib.lines.Line2D at 0x1aaa62ed4c0>],\n",
       " 'means': []}"
      ]
     },
     "execution_count": 16,
     "metadata": {},
     "output_type": "execute_result"
    },
    {
     "data": {
      "image/png": "[encoded data removed]",
      "text/plain": [
       "<Figure size 432x288 with 1 Axes>"
      ]
     },
     "metadata": {
      "needs_background": "light"
     },
     "output_type": "display_data"
    }
   ],
   "source": [
    "import matplotlib.pyplot as plt\n",
    "\n",
    "plt.boxplot(df_new3.social_score, notch=True)\n",
    "\n",
    "# There are some outliers in social_score"
   ]
  },
  {
   "cell_type": "code",
   "execution_count": 17,
   "id": "0e3291e1",
   "metadata": {},
   "outputs": [
    {
     "data": {
      "text/plain": [
       "{'whiskers': [<matplotlib.lines.Line2D at 0x1aaa63c92e0>,\n",
       "  <matplotlib.lines.Line2D at 0x1aaa63c9640>],\n",
       " 'caps': [<matplotlib.lines.Line2D at 0x1aaa63c99a0>,\n",
       "  <matplotlib.lines.Line2D at 0x1aaa63c9ca0>],\n",
       " 'boxes': [<matplotlib.lines.Line2D at 0x1aaa63baf40>],\n",
       " 'medians': [<matplotlib.lines.Line2D at 0x1aaa63d4040>],\n",
       " 'fliers': [<matplotlib.lines.Line2D at 0x1aaa63d43a0>],\n",
       " 'means': []}"
      ]
     },
     "execution_count": 17,
     "metadata": {},
     "output_type": "execute_result"
    },
    {
     "data": {
      "image/png": "[encoded data removed]",
      "text/plain": [
       "<Figure size 432x288 with 1 Axes>"
      ]
     },
     "metadata": {
      "needs_background": "light"
     },
     "output_type": "display_data"
    }
   ],
   "source": [
    "plt.boxplot(df_new3.sentiment, notch=True)\n",
    "\n",
    "# Same for sentiment. There are outliers. "
   ]
  },
  {
   "cell_type": "code",
   "execution_count": 18,
   "id": "f9289b39",
   "metadata": {},
   "outputs": [
    {
     "data": {
      "text/plain": [
       "(8087, 3)"
      ]
     },
     "execution_count": 18,
     "metadata": {},
     "output_type": "execute_result"
    }
   ],
   "source": [
    " # Picking filter based on box plot and an understanding of descriptive statistics, to remove social_score outliers\n",
    "df_new_final = df_new3[(df_new3['social_score'] < 1.000000e+06)]\n",
    "df_new_final.shape\n",
    "# Removed 2 Values. The filter is conservative because we want to take into account that there could be scenarios where\n",
    "# social score can be an outlier."
   ]
  },
  {
   "cell_type": "code",
   "execution_count": 19,
   "id": "47d4650f",
   "metadata": {},
   "outputs": [
    {
     "data": {
      "text/plain": [
       "(7824, 3)"
      ]
     },
     "execution_count": 19,
     "metadata": {},
     "output_type": "execute_result"
    }
   ],
   "source": [
    "# Picking filter based on box plot and an understanding of descriptive statistics\n",
    "df_new_final_maybe = df_new_final[(df_new_final['sentiment'] > 1.000000)]  \n",
    "df_new_final_maybe.shape\n",
    "# Not removing outliers here as sentiment can be expected to be a low value of 1."
   ]
  },
  {
   "cell_type": "code",
   "execution_count": 20,
   "id": "fecded64",
   "metadata": {},
   "outputs": [
    {
     "data": {
      "text/html": [
       "<div>\n",
       "<style scoped>\n",
       "    .dataframe tbody tr th:only-of-type {\n",
       "        vertical-align: middle;\n",
       "    }\n",
       "\n",
       "    .dataframe tbody tr th {\n",
       "        vertical-align: top;\n",
       "    }\n",
       "\n",
       "    .dataframe thead th {\n",
       "        text-align: right;\n",
       "    }\n",
       "</style>\n",
       "<table border=\"1\" class=\"dataframe\">\n",
       "  <thead>\n",
       "    <tr style=\"text-align: right;\">\n",
       "      <th></th>\n",
       "      <th>time</th>\n",
       "      <th>sentiment</th>\n",
       "      <th>social_score</th>\n",
       "    </tr>\n",
       "  </thead>\n",
       "  <tbody>\n",
       "    <tr>\n",
       "      <th>2</th>\n",
       "      <td>2021-05-12</td>\n",
       "      <td>3.0</td>\n",
       "      <td>746648.0</td>\n",
       "    </tr>\n",
       "    <tr>\n",
       "      <th>3</th>\n",
       "      <td>2020-03-20</td>\n",
       "      <td>4.0</td>\n",
       "      <td>540086.0</td>\n",
       "    </tr>\n",
       "    <tr>\n",
       "      <th>4</th>\n",
       "      <td>2021-05-24</td>\n",
       "      <td>3.0</td>\n",
       "      <td>403736.0</td>\n",
       "    </tr>\n",
       "    <tr>\n",
       "      <th>5</th>\n",
       "      <td>2021-01-21</td>\n",
       "      <td>3.0</td>\n",
       "      <td>327435.0</td>\n",
       "    </tr>\n",
       "    <tr>\n",
       "      <th>6</th>\n",
       "      <td>2021-05-20</td>\n",
       "      <td>4.0</td>\n",
       "      <td>310832.0</td>\n",
       "    </tr>\n",
       "  </tbody>\n",
       "</table>\n",
       "</div>"
      ],
      "text/plain": [
       "        time  sentiment  social_score\n",
       "2 2021-05-12        3.0      746648.0\n",
       "3 2020-03-20        4.0      540086.0\n",
       "4 2021-05-24        3.0      403736.0\n",
       "5 2021-01-21        3.0      327435.0\n",
       "6 2021-05-20        4.0      310832.0"
      ]
     },
     "execution_count": 20,
     "metadata": {},
     "output_type": "execute_result"
    }
   ],
   "source": [
    "df_new_final.head()"
   ]
  },
  {
   "cell_type": "code",
   "execution_count": 21,
   "id": "40ee5106",
   "metadata": {},
   "outputs": [
    {
     "data": {
      "text/plain": [
       "(8087, 3)"
      ]
     },
     "execution_count": 21,
     "metadata": {},
     "output_type": "execute_result"
    }
   ],
   "source": [
    "df_new_final.shape\n",
    "# 8087 rows and 3 columns"
   ]
  },
  {
   "cell_type": "markdown",
   "id": "f6e2210b",
   "metadata": {},
   "source": []
  },
  {
   "cell_type": "markdown",
   "id": "252bc903",
   "metadata": {},
   "source": []
  },
  {
   "cell_type": "code",
   "execution_count": 29,
   "id": "d053e751",
   "metadata": {},
   "outputs": [],
   "source": [
    "df_new_final.to_csv(\"api_milestone3_bitcoin.csv\", index=False)\n",
    "unique_values_num_dates = df_new_final['time'].nunique()\n",
    "df_new_final_new = df_new_final.drop_duplicates(subset=['time'])\n",
    "df_new_final_new.shape\n",
    "df_new_final_new.to_csv(\"api_noduplicates_milestone3_bitcoin.csv\", index=False)"
   ]
  }
 ],
 "metadata": {
  "kernelspec": {
   "display_name": "Python 3 (ipykernel)",
   "language": "python",
   "name": "python3"
  },
  "language_info": {
   "codemirror_mode": {
    "name": "ipython",
    "version": 3
   },
   "file_extension": ".py",
   "mimetype": "text/x-python",
   "name": "python",
   "nbconvert_exporter": "python",
   "pygments_lexer": "ipython3",
   "version": "3.8.13"
  }
 },
 "nbformat": 4,
 "nbformat_minor": 5
}
